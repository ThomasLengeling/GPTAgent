{
 "cells": [
  {
   "cell_type": "markdown",
   "id": "7b3bd30a",
   "metadata": {},
   "source": [
    "# Generative Agent's Profile\n",
    "\n",
    "Based on the Agent's Profile Generate a daily activity schedule"
   ]
  },
  {
   "cell_type": "code",
   "execution_count": 1,
   "id": "cacaf99f",
   "metadata": {},
   "outputs": [],
   "source": [
    "import os\n",
    "import openai\n",
    "import json\n",
    "import geocoder\n",
    "import time\n",
    "import socket\n",
    "import json\n",
    "from dotenv import load_dotenv\n",
    "from langchain.llms import OpenAI"
   ]
  },
  {
   "cell_type": "code",
   "execution_count": 2,
   "id": "7699e7f3",
   "metadata": {},
   "outputs": [],
   "source": [
    "load_dotenv()\n",
    "openai.api_key = os.environ.get('OPENAI_KEY')\n",
    "\n",
    "model_api = \"gpt-4\"\n",
    "messages = [ {\"role\": \"system\", \"content\": \"You are a intelligent assistant.\"} ]"
   ]
  },
  {
   "cell_type": "markdown",
   "id": "d3e7871a",
   "metadata": {},
   "source": [
    "## Create the detailed hour-by-hour sequence\n",
    "\n",
    "Read the saved profiles from the local folder and generate the detail hour-by-hour sequence"
   ]
  },
  {
   "cell_type": "code",
   "execution_count": 3,
   "id": "e6008385",
   "metadata": {},
   "outputs": [],
   "source": [
    "neighborhood_id = \"ks\""
   ]
  },
  {
   "cell_type": "code",
   "execution_count": 4,
   "id": "c648f3fb",
   "metadata": {},
   "outputs": [
    {
     "name": "stdout",
     "output_type": "stream",
     "text": [
      "loading files from: /Users/thomas/Documents/CityScience/GPTAgent/Python/ks\n",
      "reading: ag_00001_ks.json\n"
     ]
    }
   ],
   "source": [
    "#read the profiles:\n",
    "\n",
    "#get directory\n",
    "current_directory = os.getcwd()+\"/\"+neighborhood_id\n",
    "\n",
    "#get all the files .json from the dir\n",
    "all_files = os.listdir(current_directory)\n",
    "json_files = [f for f in all_files if f.endswith('.json')]\n",
    "\n",
    "json_agents = []\n",
    "print(\"loading files from: \"+current_directory)\n",
    "\n",
    "for json_file in json_files:\n",
    "    with open(os.path.join(current_directory, json_file), 'r') as file:\n",
    "        try:\n",
    "            data = json.load(file)\n",
    "            agents = {}\n",
    "            agents[json_file] = data\n",
    "            json_agents.append(agents);\n",
    "            print(\"reading: \"+json_file)\n",
    "        except json.JSONDecodeError:\n",
    "            print(f\"Error decoding JSON in file {json_file}\")"
   ]
  },
  {
   "cell_type": "code",
   "execution_count": 5,
   "id": "49985bef",
   "metadata": {},
   "outputs": [
    {
     "name": "stdout",
     "output_type": "stream",
     "text": [
      "{\n",
      "    \"ag_00001_ks.json\": {\n",
      "        \"Profile\": {\n",
      "            \"Name\": \"John Doe\",\n",
      "            \"Age\": \"27\",\n",
      "            \"Institution or Company\": \"MIT Media Lab, City Science Group\",\n",
      "            \"Marital Status\": \"Single\",\n",
      "            \"Gender\": \"Male\",\n",
      "            \"Race and Ethnicity\": \"South African\",\n",
      "            \"Nationality\": \"South African\",\n",
      "            \"Education\": {\n",
      "                \"Undergraduate - Electronics\": \"University of Cape Town, South Africa\",\n",
      "                \"Masters - Urban Science\": \"MIT Media Lab, City Science Group\"\n",
      "            },\n",
      "            \"Job Name\": \"Research Assistant\",\n",
      "            \"Work Interests\": \"Urban planning, technology in urban development, sustainable cities\",\n",
      "            \"Personal Interests\": \"Soccer, Hiking, Community Service\",\n",
      "            \"Home Address\": \"303 3rd Street, Cambridge, 02142\",\n",
      "            \"Background\": {\n",
      "                \"Born and raised in South Africa\": \"He showed an early interest in electronics and software. Received a scholarship for the masters program at MIT.\",\n",
      "                \"Job Experience\": \"Worked as intern in urban development projects in Cape Town before joining MIT.\"\n",
      "            },\n",
      "            \"Skills\": \"Programming, Data Analysis, Model Designing, Urban Planning\",\n",
      "            \"Aspirations\": \"To build smart, sustainable cities by leveraging technology\",\n",
      "            \"Dislikes\": \"Inefficiency, Procrastination\",\n",
      "            \"Dislikes Activities\": \"Sedentary lifestyle, Late dinners\",\n",
      "            \"Lifestyle\": \"Active, engaged with academic and local communities, regularly participates in sports, environmentally conscious\",\n",
      "            \"Profile Summary\": \"John is a highly motivated and talented individual working at the intersection of technology and urban planning. With his strong educational background and dedication, he aims to bring significant changes in designing sustainable cities.\"\n",
      "        }\n",
      "    }\n",
      "}\n"
     ]
    }
   ],
   "source": [
    "print(json.dumps(json_agents[0], indent=4))"
   ]
  },
  {
   "cell_type": "code",
   "execution_count": 6,
   "id": "4e7e312d",
   "metadata": {},
   "outputs": [
    {
     "name": "stdout",
     "output_type": "stream",
     "text": [
      "ag_00001_ks.json\n",
      "name: John Doe\n",
      "occupation: Research Assistant\n",
      "Home Address: 303 3rd Street, Cambridge, 02142\n",
      "Home neighborhood: Kendall Square\n",
      "Profile Summary: John is a highly motivated and talented individual working at the intersection of technology and urban planning. With his strong educational background and dedication, he aims to bring significant changes in designing sustainable cities.\n",
      "Personal Interests: Soccer, Hiking, Community Service\n",
      "job: MIT Media Lab, City Science Group\n"
     ]
    }
   ],
   "source": [
    "#extract \"Home Address\", \"Occupation\",  Profile Summary\", \"Personal Interests\"\n",
    "curr_json_agent = json_agents[0]\n",
    "agent_id_name = list(curr_json_agent.keys())[0]\n",
    "\n",
    "if agent_id_name in curr_json_agent:\n",
    "    print(agent_id_name)\n",
    "\n",
    "name = curr_json_agent[agent_id_name]['Profile']['Name']\n",
    "occupation = curr_json_agent[agent_id_name]['Profile']['Job Name']\n",
    "address = curr_json_agent[agent_id_name]['Profile']['Home Address']\n",
    "summary = curr_json_agent[agent_id_name]['Profile']['Profile Summary']\n",
    "interest = curr_json_agent[agent_id_name]['Profile']['Personal Interests']\n",
    "job_name = curr_json_agent[agent_id_name]['Profile']['Institution or Company']\n",
    "\n",
    "#interest =', '.join(interest)\n",
    "home_neighborhood = \"Kendall Square\"\n",
    "\n",
    "print(\"name: \"+name)\n",
    "print(\"occupation: \"+occupation)\n",
    "print(\"Home Address: \"+address)\n",
    "print(\"Home neighborhood: \"+home_neighborhood)\n",
    "print(\"Profile Summary: \"+summary)\n",
    "print(\"Personal Interests: \"+interest)\n",
    "print(\"job: \"+job_name)"
   ]
  },
  {
   "cell_type": "code",
   "execution_count": 7,
   "id": "9ecbf5ac",
   "metadata": {},
   "outputs": [
    {
     "name": "stdout",
     "output_type": "stream",
     "text": [
      "Create a detailed hour-by-hour sequence of activities with fractional commuting times of John Doe using actual points of interest living at Kendall Square and working at MIT Media Lab, City Science Group. Use interest of John is a highly motivated and talented individual working at the intersection of technology and urban planning. With his strong educational background and dedication, he aims to bring significant changes in designing sustainable cities.\n"
     ]
    }
   ],
   "source": [
    "#read the profile and create a daily activity\n",
    "message = \"Create a detailed hour-by-hour sequence of activities with fractional commuting times of \"+name+\" using actual points of interest living at \"+home_neighborhood+\" and working at \"+job_name+\". Use interest of \"+summary\n",
    "print(message)"
   ]
  },
  {
   "cell_type": "code",
   "execution_count": 8,
   "id": "38cbfba8",
   "metadata": {},
   "outputs": [
    {
     "name": "stdout",
     "output_type": "stream",
     "text": [
      "ChatGPT: 6:00 AM - John Doe wakes up at his residence at Kendall Square. He starts his day with some light exercise to stay healthy and energized.\n",
      "\n",
      "6:30 AM - After exercise, John takes a quick shower and prepares a healthy breakfast, typically including some fruits, whole grain, and a protein source.\n",
      "\n",
      "7:30 AM - John reads relevant international news, articles, and papers in the domain of urban planning and technology. This helps him stay updated about the latest trends, and progress in his field.\n",
      "\n",
      "8:15 AM - John leaves his place in Kendall Square and walks to the MIT Media Lab, City Science Group. The walk takes approximately 15 minutes, which John thinks is a great opportunity to clear his head before diving into his work-filled day.\n",
      "\n",
      "8:30 AM - John starts his work at the City Science Group. He usually begins by responding to priority emails and planning his day.\n",
      "\n",
      "9:30 AM - John generally attends a team meeting to discuss ongoing projects, new ideas, and updates in strategies or plans regarding sustainable cities.\n",
      "\n",
      "11:00 AM - John works on his projects. He designs, codes, experiments, and analyses results. He also coordinates with other team members and collaborates on different parts of the project.\n",
      "\n",
      "1:00 PM - John takes a lunch break. Often, he uses this time to network with other scientists and researchers in the lab, discussing their projects and brainstorming ideas.\n",
      "\n",
      "2:00 PM - Back to work, John continues working on his projects. He also takes time to review progress, troubleshoot issues and strategize for upcoming tasks.\n",
      "\n",
      "4:00 PM - John attends seminars or workshops if any are being hosted at the lab. These sessions provide valuable opportunities to learn about other research areas and latest technological advancements.\n",
      "\n",
      "5:00 PM - John wraps up his workday. He reviews the day's progress, updates his to-do list, and prepares a work-plan for the next day.\n",
      "\n",
      "5:30 PM - After work, John may optionally visits nearby points of interest like the MIT Museum or the List Visual Arts Center to explore and get inspired. \n",
      "\n",
      "7:00 PM - John returns home and often relaxes by reading a book or watching a documentary related to urban planning or technology.\n",
      "\n",
      "8:00 PM - John prepares his dinner, usually something light and nutritious. He might also catch up with friends or family over a meal.\n",
      "\n",
      "9:00 PM - John spends the evening doing a bit of professional networking online, participating in relevant forums and discussions. \n",
      "\n",
      "10:30 PM - John prepares for the next day, perhaps doing a bit of light cleaning and organizing.  \n",
      "\n",
      "11:00 PM - John ends his day by setting the alarm for the next morning, and resting to recharge for the full day ahead.\n"
     ]
    }
   ],
   "source": [
    "if message:\n",
    "    messages.append(\n",
    "        {\"role\": \"user\", \"content\": message},\n",
    "    )\n",
    "    chat = openai.ChatCompletion.create(\n",
    "        model = model_api, messages=messages\n",
    "    )\n",
    "    chatGPT_reply = chat.choices[0].message.content\n",
    "    print(f\"ChatGPT: {chatGPT_reply}\")"
   ]
  },
  {
   "cell_type": "code",
   "execution_count": 9,
   "id": "64991a08",
   "metadata": {},
   "outputs": [],
   "source": [
    "message = \"encapsulated the actities in json format with an extensive time intervals, substantial Acitivity and real address. Include all the previos detailed sequence to create the acitivty list\""
   ]
  },
  {
   "cell_type": "code",
   "execution_count": 10,
   "id": "27170e96",
   "metadata": {},
   "outputs": [
    {
     "name": "stdout",
     "output_type": "stream",
     "text": [
      "ChatGPT: Sure, here is a detailed sequence of activities:\n",
      "\n",
      "```json\n",
      "{\n",
      "  \"sequence\": [\n",
      "    {\n",
      "      \"time\": \"6:00 AM\", \n",
      "      \"activity\": \"John wakes up.\",\n",
      "      \"location\": \"Home, Kendall Square\"\n",
      "    },\n",
      "    {\n",
      "      \"time\": \"6:30 AM\",\n",
      "      \"activity\": \"John exercises - jogging around the Kendall Square area.\",\n",
      "      \"location\": \"Kendall Square\"\n",
      "    },\n",
      "    {\n",
      "      \"time\": \"7:15 AM\",\n",
      "      \"activity\": \"John returns home, gets ready for work.\",\n",
      "      \"location\": \"Home, Kendall Square\"\n",
      "    },\n",
      "    {\n",
      "      \"time\": \"8:00 AM\",\n",
      "      \"activity\": \"John eats breakfast and prepares for work.\",\n",
      "      \"location\": \"Home, Kendall Square\"\n",
      "    },\n",
      "    {\n",
      "      \"time\": \"8:30 AM\",\n",
      "      \"activity\": \"John leaves home, commutes to work by bicycle (around 7 mins).\",\n",
      "      \"location\": \"Transition from Kendall Square to MIT Media Lab, 75 Amherst St, Cambridge, MA 02139\"\n",
      "    },\n",
      "    {\n",
      "      \"time\": \"8:45 AM\",\n",
      "      \"activity\": \"John arrives at work and checks in.\",\n",
      "      \"location\": \"MIT Media Lab, City Science Group\"\n",
      "    },\n",
      "    {\n",
      "      \"time\": \"9:00 AM - 12:00 PM\",\n",
      "      \"activity\": \"John participates in team meetings, works on various city planning projects.\",\n",
      "      \"location\": \"MIT Media Lab, City Science Group\"\n",
      "    },\n",
      "    {\n",
      "      \"time\": \"12:00 PM - 1:00 PM\",\n",
      "      \"activity\": \"John takes lunch at either The Alchemist, Area Four or Bon Me, favorite food spots in the area.\",\n",
      "      \"location\": \"Nearby restaurants\"\n",
      "    },\n",
      "    {\n",
      "      \"time\": \"1:00 PM - 5:00 PM\",\n",
      "      \"activity\": \"John works on his individual projects, collaboration with other teams in the city planning initiatives.\",\n",
      "      \"location\": \"MIT Media Lab, City Science Group\"\n",
      "    },\n",
      "    {\n",
      "      \"time\": \"5:00 PM\",\n",
      "      \"activity\": \"John wraps up work and commutes back home (7 mins).\",\n",
      "      \"location\": \"Transition from MIT Media Lab to Kendall Square\"\n",
      "    },\n",
      "    {\n",
      "      \"time\": \"5:30 PM - 7:00 PM\",\n",
      "      \"activity\": \"John takes his time to refresh, might read up latest journals or articles related to city planning.\",\n",
      "      \"location\": \"Home, Kendall Square\"\n",
      "    },\n",
      "    {\n",
      "      \"time\": \"7:00 PM - 8:00 PM\",\n",
      "      \"activity\": \"John has dinner.\",\n",
      "      \"location\": \"Home, Kendall Square\"\n",
      "    },\n",
      "    {\n",
      "      \"time\": \"8:00 PM - 9:30 PM\",\n",
      "      \"activity\": \"John relaxes, enjoys some leisure activity such as reading a book or watching a documentary.\",\n",
      "      \"location\": \"Home, Kendall Square\"\n",
      "    },\n",
      "    {\n",
      "      \"time\": \"10:00 PM\",\n",
      "      \"activity\": \"John goes to bed, preparing for another productive day tomorrow.\",\n",
      "      \"location\": \"Home, Kendall Square\"\n",
      "    }\n",
      "  ]\n",
      "}\n",
      "```\n",
      "This activity sequence optimally balances John's work commitments, interest in urban planning and downtime. Keep in mind, real-life days might be slightly different as various factors such as unplanned meetings, public holidays, and personal commitments can affect the day's schedule.\n"
     ]
    }
   ],
   "source": [
    "if message:\n",
    "    messages.append(\n",
    "        {\"role\": \"user\", \"content\": message},\n",
    "    )\n",
    "    chat = openai.ChatCompletion.create(\n",
    "        model = model_api, messages=messages\n",
    "    )\n",
    "    chatGPT_reply = chat.choices[0].message.content\n",
    "    print(f\"ChatGPT: {chatGPT_reply}\")"
   ]
  },
  {
   "cell_type": "code",
   "execution_count": null,
   "id": "e03a3c5d",
   "metadata": {},
   "outputs": [],
   "source": []
  },
  {
   "cell_type": "code",
   "execution_count": 11,
   "id": "b2796b73",
   "metadata": {},
   "outputs": [
    {
     "name": "stdout",
     "output_type": "stream",
     "text": [
      "ChatGPT: Sure, here is how the hour-by-hour activity list might look in JSON format:\n",
      "\n",
      "```\n",
      "[\n",
      "    {\n",
      "        \"time\": \"07:00\",\n",
      "        \"activity\": \"Wake up, freshen up and breakfast at home\",\n",
      "        \"location\": \"Residential address at Kendall Square, Cambridge, MA\"\n",
      "    },\n",
      "    {\n",
      "        \"time\": \"08:00\",\n",
      "        \"activity\": \"Leave home and commute to work\",\n",
      "        \"location\": \"Commuting towards MIT Media Lab, 75 Amherst St, Cambridge, MA 02139\"\n",
      "    },\n",
      "    {\n",
      "        \"time\": \"08:15\",\n",
      "        \"activity\": \"Arrive at work at the MIT Media Lab, City Science Group\",\n",
      "        \"location\": \"MIT Media Lab, 75 Amherst St, Cambridge, MA 02139\"\n",
      "    },\n",
      "    {\n",
      "        \"time\": \"08:30\",\n",
      "        \"activity\": \"Plan the day's tasks, research updates in the field of urban planning and technology\",\n",
      "        \"location\": \"MIT Media Lab, 75 Amherst St, Cambridge, MA 02139\"\n",
      "    },\n",
      "    {\n",
      "        \"time\": \"12:00\",\n",
      "        \"activity\": \"Lunch break, free time\",\n",
      "        \"location\": \"Food Court at Kendall Square, Cambridge, MA\"\n",
      "    },\n",
      "    {\n",
      "        \"time\": \"13:00\",\n",
      "        \"activity\": \"Resume working, applying technology understandings in designing sustainable cities\",\n",
      "        \"location\": \"MIT Media Lab, 75 Amherst St, Cambridge, MA 02139\"\n",
      "    },\n",
      "    {\n",
      "        \"time\": \"17:00\",\n",
      "        \"activity\": \"Wrap up work, summarizing the day's progress and set goals for tomorrow\",\n",
      "        \"location\": \"MIT Media Lab, 75 Amherst St, Cambridge, MA 02139\"\n",
      "    },\n",
      "    {\n",
      "        \"time\": \"17:30\",\n",
      "        \"activity\": \"Leave work and commute back home\",\n",
      "        \"location\": \"Commuting towards home, Kendall Square, Cambridge, MA\"\n",
      "    },\n",
      "    {\n",
      "        \"time\": \"17:45\",\n",
      "        \"activity\": \"Arrive at home, relaxation\",\n",
      "        \"location\": \"Residential address at Kendall Square, Cambridge, MA\"\n",
      "    },\n",
      "    {\n",
      "        \"time\": \"19:00\",\n",
      "        \"activity\": \"Dinner\",\n",
      "        \"location\": \"Residential address at Kendall Square, Cambridge, MA\"\n",
      "    },\n",
      "     {\n",
      "        \"time\": \"20:00\",\n",
      "        \"activity\": \"Personal time - Reading, enrolling for online courses or attending webinars related to sustainable city planning\",\n",
      "        \"location\": \"Residential address at Kendall Square, Cambridge, MA\"\n",
      "    },\n",
      "    {\n",
      "        \"time\": \"22:00\",\n",
      "        \"activity\": \"Prepare for bed and rest\",\n",
      "        \"location\": \"Residential address at Kendall Square, Cambridge, MA\"\n",
      "    }\n",
      "]\n",
      "```\n"
     ]
    }
   ],
   "source": [
    "if message:\n",
    "    messages.append(\n",
    "        {\"role\": \"user\", \"content\": message},\n",
    "    )\n",
    "    chat = openai.ChatCompletion.create(\n",
    "        model = model_api, messages=messages\n",
    "    )\n",
    "    chatGPT_reply = chat.choices[0].message.content\n",
    "    print(f\"ChatGPT: {chatGPT_reply}\")"
   ]
  },
  {
   "cell_type": "code",
   "execution_count": null,
   "id": "9d5f7f5a",
   "metadata": {},
   "outputs": [],
   "source": [
    "message = \"can you change the \\\"Time\\\" in \\\"Activities\\\" to 24 hour format\""
   ]
  },
  {
   "cell_type": "code",
   "execution_count": null,
   "id": "d1605c93",
   "metadata": {},
   "outputs": [],
   "source": [
    "if message:\n",
    "    messages.append(\n",
    "        {\"role\": \"user\", \"content\": message},\n",
    "    )\n",
    "    chat = openai.ChatCompletion.create(\n",
    "        model = model_api, messages=messages\n",
    "    )\n",
    "    chatGPT_reply = chat.choices[0].message.content\n",
    "    print(f\"ChatGPT: {chatGPT_reply}\")"
   ]
  },
  {
   "cell_type": "code",
   "execution_count": null,
   "id": "09503951",
   "metadata": {},
   "outputs": [],
   "source": []
  }
 ],
 "metadata": {
  "kernelspec": {
   "display_name": "Python 3 (ipykernel)",
   "language": "python",
   "name": "python3"
  },
  "language_info": {
   "codemirror_mode": {
    "name": "ipython",
    "version": 3
   },
   "file_extension": ".py",
   "mimetype": "text/x-python",
   "name": "python",
   "nbconvert_exporter": "python",
   "pygments_lexer": "ipython3",
   "version": "3.11.4"
  }
 },
 "nbformat": 4,
 "nbformat_minor": 5
}
