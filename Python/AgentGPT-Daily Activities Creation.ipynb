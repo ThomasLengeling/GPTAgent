{
 "cells": [
  {
   "cell_type": "markdown",
   "id": "7b3bd30a",
   "metadata": {},
   "source": [
    "# Generative Agent's Profile\n",
    "\n",
    "Based on the Agent's Profile Generate a daily activity schedule"
   ]
  },
  {
   "cell_type": "code",
   "execution_count": 2,
   "id": "cacaf99f",
   "metadata": {},
   "outputs": [],
   "source": [
    "import os\n",
    "import openai\n",
    "import json\n",
    "import geocoder\n",
    "import time\n",
    "import socket\n",
    "import json\n",
    "from dotenv import load_dotenv\n",
    "from langchain.llms import OpenAI"
   ]
  },
  {
   "cell_type": "code",
   "execution_count": 3,
   "id": "7699e7f3",
   "metadata": {},
   "outputs": [],
   "source": [
    "load_dotenv()\n",
    "openai.api_key = os.environ.get('OPENAI_KEY')\n",
    "\n",
    "model_api = \"gpt-3.5-turbo\""
   ]
  },
  {
   "cell_type": "markdown",
   "id": "d3e7871a",
   "metadata": {},
   "source": [
    "## Create the detailed hour-by-hour sequence\n",
    "\n",
    "Read the saved profiles from the local folder and generate the detail hour-by-hour sequence"
   ]
  },
  {
   "cell_type": "code",
   "execution_count": null,
   "id": "e6008385",
   "metadata": {},
   "outputs": [],
   "source": []
  },
  {
   "cell_type": "code",
   "execution_count": null,
   "id": "c648f3fb",
   "metadata": {},
   "outputs": [],
   "source": [
    "\n",
    "\n",
    "with open(\"data.json\", \"w\") as write_file:\n",
    "    json.dump(data, write_file)"
   ]
  },
  {
   "cell_type": "code",
   "execution_count": null,
   "id": "9ecbf5ac",
   "metadata": {},
   "outputs": [],
   "source": [
    "\n",
    "#extract name\n",
    "message_chatGPT = json.loads(chatGPT_reply)\n",
    "\n",
    "\n",
    "# Extract 'Name'\n",
    "agent_name = message_chatGPT.get('Name', 'Name not found')\n",
    "print(\"Profile Name: \"+ agent_name)\n",
    "\n",
    "print(json.dumps(message_chatGPT, indent=2))"
   ]
  },
  {
   "cell_type": "code",
   "execution_count": 4,
   "id": "e03a3c5d",
   "metadata": {},
   "outputs": [
    {
     "ename": "NameError",
     "evalue": "name 'agent_name' is not defined",
     "output_type": "error",
     "traceback": [
      "\u001b[0;31m---------------------------------------------------------------------------\u001b[0m",
      "\u001b[0;31mNameError\u001b[0m                                 Traceback (most recent call last)",
      "Cell \u001b[0;32mIn[4], line 4\u001b[0m\n\u001b[1;32m      1\u001b[0m home_neighborhood \u001b[38;5;241m=\u001b[39m \u001b[38;5;124m\"\u001b[39m\u001b[38;5;124mKendall Square\u001b[39m\u001b[38;5;124m\"\u001b[39m\n\u001b[1;32m      2\u001b[0m work_place \u001b[38;5;241m=\u001b[39m \u001b[38;5;124m\"\u001b[39m\u001b[38;5;124mMIT Campus\u001b[39m\u001b[38;5;124m\"\u001b[39m\n\u001b[0;32m----> 4\u001b[0m message \u001b[38;5;241m=\u001b[39m \u001b[38;5;124m\"\u001b[39m\u001b[38;5;124mBased on the personal interest, employment and profile of \u001b[39m\u001b[38;5;124m\"\u001b[39m\u001b[38;5;241m+\u001b[39m\u001b[43magent_name\u001b[49m\u001b[38;5;241m+\u001b[39m\u001b[38;5;124m\"\u001b[39m\u001b[38;5;124m generate a detailed hour-by-hour sequence of activities of actual points of interest in \u001b[39m\u001b[38;5;124m\"\u001b[39m\u001b[38;5;241m+\u001b[39mhome_neighborhood\u001b[38;5;241m+\u001b[39m\u001b[38;5;124m\"\u001b[39m\u001b[38;5;124m on the \u001b[39m\u001b[38;5;124m\"\u001b[39m\u001b[38;5;241m+\u001b[39mwork_place\n\u001b[1;32m      5\u001b[0m \u001b[38;5;28mprint\u001b[39m(message)\n",
      "\u001b[0;31mNameError\u001b[0m: name 'agent_name' is not defined"
     ]
    }
   ],
   "source": [
    "\n",
    "home_neighborhood = \"Kendall Square\"\n",
    "work_place = \"MIT Campus\"\n",
    "\n",
    "message = \"Based on the personal interest, employment and profile of \"+agent_name+\" generate a detailed hour-by-hour sequence of activities of actual points of interest in \"+home_neighborhood+\" on the \"+work_place\n",
    "print(message)"
   ]
  },
  {
   "cell_type": "code",
   "execution_count": null,
   "id": "b2796b73",
   "metadata": {},
   "outputs": [],
   "source": [
    "\n",
    "#fail check process if ChatGPT created a well defined profile, check every entry?\n",
    "\n",
    "message = \"generate a json format of the profile with the following topics \"+topics"
   ]
  }
 ],
 "metadata": {
  "kernelspec": {
   "display_name": "Python 3 (ipykernel)",
   "language": "python",
   "name": "python3"
  },
  "language_info": {
   "codemirror_mode": {
    "name": "ipython",
    "version": 3
   },
   "file_extension": ".py",
   "mimetype": "text/x-python",
   "name": "python",
   "nbconvert_exporter": "python",
   "pygments_lexer": "ipython3",
   "version": "3.11.4"
  }
 },
 "nbformat": 4,
 "nbformat_minor": 5
}
