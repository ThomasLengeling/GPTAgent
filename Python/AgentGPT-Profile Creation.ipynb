{
 "cells": [
  {
   "cell_type": "markdown",
   "id": "2dfea602",
   "metadata": {},
   "source": [
    "# Profile creation of a single Agent using LLM\n",
    "\n",
    "Generate simple Agent profile with the following characteristics:\n",
    "What are the baseline agent inputs for an agent creation?\n",
    "\n",
    "- Home Address\n",
    "- Occupation\n",
    "- Origin\n",
    "- Demographics (Gender, Age, etc)"
   ]
  },
  {
   "cell_type": "code",
   "execution_count": 1,
   "id": "a1ff21ac",
   "metadata": {},
   "outputs": [
    {
     "ename": "SyntaxError",
     "evalue": "invalid syntax (222586162.py, line 1)",
     "output_type": "error",
     "traceback": [
      "\u001b[0;36m  Cell \u001b[0;32mIn[1], line 1\u001b[0;36m\u001b[0m\n\u001b[0;31m    pip install langchain\u001b[0m\n\u001b[0m        ^\u001b[0m\n\u001b[0;31mSyntaxError\u001b[0m\u001b[0;31m:\u001b[0m invalid syntax\n"
     ]
    }
   ],
   "source": [
    "pip install langchain\n",
    "pip install 'langchain[all]'"
   ]
  },
  {
   "cell_type": "code",
   "execution_count": 2,
   "id": "00a4ea0f",
   "metadata": {},
   "outputs": [],
   "source": [
    "neighborhood_id = \"ks\"\n",
    "neighborhood_population = 1000"
   ]
  },
  {
   "cell_type": "code",
   "execution_count": 3,
   "id": "e8a26041",
   "metadata": {},
   "outputs": [],
   "source": [
    "import os\n",
    "import re\n",
    "import openai\n",
    "import json\n",
    "import geocoder\n",
    "import time\n",
    "import socket\n",
    "import json\n",
    "from dotenv import load_dotenv\n",
    "from langchain.llms import OpenAI"
   ]
  },
  {
   "cell_type": "markdown",
   "id": "b3b70a36",
   "metadata": {},
   "source": [
    "## OpenAI  \n"
   ]
  },
  {
   "cell_type": "code",
   "execution_count": 4,
   "id": "4c298195",
   "metadata": {},
   "outputs": [],
   "source": [
    "load_dotenv()\n",
    "openai.api_key = os.environ.get('OPENAI_KEY')\n",
    "\n",
    "#model_api = \"gpt-3.5-turbo\"\n",
    "model_api = \"gpt-4\""
   ]
  },
  {
   "cell_type": "code",
   "execution_count": 5,
   "id": "95f34830",
   "metadata": {},
   "outputs": [],
   "source": [
    "messages = [ {\"role\": \"system\", \"content\": \"You are a intelligent assistant.\"} ]"
   ]
  },
  {
   "cell_type": "markdown",
   "id": "56251245",
   "metadata": {},
   "source": [
    "Connect to a databse and obtain the real-time address, occupation, origin, "
   ]
  },
  {
   "cell_type": "code",
   "execution_count": 6,
   "id": "a20c5770",
   "metadata": {},
   "outputs": [],
   "source": [
    "# Obtain Address from a real location, for example a land-use database which includes a residential land-type\n",
    "Address = \"303 3rd Street, Cambridge, 02142\""
   ]
  },
  {
   "cell_type": "code",
   "execution_count": 7,
   "id": "9698cdb2",
   "metadata": {},
   "outputs": [],
   "source": [
    "# Include possible occupation \n",
    "Occupation = \"MIT Media Lab Student at the City Science Group\""
   ]
  },
  {
   "cell_type": "code",
   "execution_count": 8,
   "id": "48f0f1c0",
   "metadata": {},
   "outputs": [],
   "source": [
    "Origin = \"south africa\""
   ]
  },
  {
   "cell_type": "markdown",
   "id": "1712fdc5",
   "metadata": {},
   "source": [
    "### Basic Profile Topics of each Agent"
   ]
  },
  {
   "cell_type": "code",
   "execution_count": 9,
   "id": "0cef5d41",
   "metadata": {},
   "outputs": [
    {
     "name": "stdout",
     "output_type": "stream",
     "text": [
      "Age\n",
      "Institution or Company\n",
      "Name\n",
      "Lifestyle\n",
      "Dislikes\n",
      "Marital Status\n",
      "Work Interests\n",
      "Job Name\n",
      "Race and Ethnicity\n",
      "Gender\n",
      "Personal Interests\n",
      "Profile Summary\n",
      "Nationality\n",
      "Education\n",
      "Dislikes Activities\n",
      "Skills\n",
      "Home Address\n",
      "Aspirations\n",
      "Background\n"
     ]
    }
   ],
   "source": [
    "topics_list = {\"Name\", \"Age\", \"Nationality\", \"Gender\", \"Marital Status\", \"Race and Ethnicity\", \"Home Address\", \"Profile Summary\", \"Education\", \"Job Name\",\"Institution or Company\",  \"Personal Interests\", \"Work Interests\", \"Background\", \"Skills\", \"Lifestyle\",\"Dislikes\", \"Dislikes Activities\", \"Aspirations\"}\n",
    "\n",
    "print(*topics_list, sep='\\n')\n",
    "\n",
    "topics = \", \" .join([str(n) for n in topics_list])"
   ]
  },
  {
   "cell_type": "code",
   "execution_count": 10,
   "id": "163a5b53",
   "metadata": {},
   "outputs": [
    {
     "name": "stdout",
     "output_type": "stream",
     "text": [
      "Chat Message: Define a detailed profile for a MIT Media Lab Student at the City Science Group from south africa who has home address 303 3rd Street, Cambridge, 02142. Finally add the following topics Age, Institution or Company, Name, Lifestyle, Dislikes, Marital Status, Work Interests, Job Name, Race and Ethnicity, Gender, Personal Interests, Profile Summary, Nationality, Education, Dislikes Activities, Skills, Home Address, Aspirations, Background\n"
     ]
    }
   ],
   "source": [
    "message = \"Define a detailed profile for a \"+Occupation+\" from \"+Origin+\" who has home address \"+Address+\". Finally add the following topics \"+topics\n",
    "print(f\"Chat Message: {message}\")"
   ]
  },
  {
   "cell_type": "code",
   "execution_count": 11,
   "id": "e62bec5c",
   "metadata": {},
   "outputs": [
    {
     "name": "stdout",
     "output_type": "stream",
     "text": [
      "ChatGPT: **Name**: Thabo Sithole\n",
      "\n",
      "**Nationality**: South African\n",
      "\n",
      "**Age**: 26\n",
      "\n",
      "**Gender**: Male\n",
      "\n",
      "**Race and Ethnicity**: Black African \n",
      "\n",
      "**Institution or Company**: Massachusetts Institute of Technology (M.I.T.) Media Lab, City Science Group\n",
      "\n",
      "**Education**: Thabo received his Bachelor's degree in Computer Science from Rhodes University, South Africa, before enrolling in a Master’s program at MIT. He is currently pursuing his Ph.D. in Media Arts and Sciences at the MIT Media Lab.\n",
      "\n",
      "**Job Name**: Ph.D. Researcher\n",
      "\n",
      "**Work Interests**: Thabo's research broadly intersects in the areas of urban planning and digital technology. He aims to revolutionize how cities are built and operated, focusing on sustainability and liveability. His work is primarily centered around simulation technologies, data analysis, and their applications in imagining future urban spaces.\n",
      "\n",
      "**Skills**: Thabo is proficient in programming languages like Python, Julia and R. He is skilled in data analysis, machine learning, urban simulation technologies and has a strong base in theoretical computer science. \n",
      "\n",
      "**Personal Interests**: Outside of his academic work, Thabo has a keen interest in photography and loves to capture the beauty and dynamism of urban life. He is also a dedicated marathon runner and enjoys cooking traditional South African dishes.\n",
      "\n",
      "**Lifestyle**: Thabo lives an intellectually stimulating life with an intense daily schedule determined by his research. He values health & wellness and embeds regular marathon training into his routine. Despite his busy schedule, he makes time to indulge in his hobbies and maintains a balanced lifestyle.\n",
      "\n",
      "**Home Address**: Thabo residences at 303 3rd St, Cambridge, MA 02142, United States.\n",
      "\n",
      "**Marital Status**: Single\n",
      "\n",
      "**Dislikes**: Thabo dislikes narrow-minded thinking and any kind of discrimination. He is not fond of procrastination and unproductivity. He is also not particularly fond of fast food and prefers a healthy diet. \n",
      "\n",
      "**Dislikes activities**: Thabo dislikes activities that are not intellectually or physically stimulating, like excessive screen time outside his research, gossiping, or lazy weekends.\n",
      "\n",
      "**Aspirations**: Thabo aspires to contribute significantly to the transformation of urban landscapes globally. He aims to design technologically innovative solutions for modern urban challenges such as congestion, pollution, and inequality.\n",
      "\n",
      "**Background**: Thabo hails from Johannesburg, South Africa. His passion for technology and social service lead him to get involved in community upliftment projects during his early years. This passion drove him to pursue higher education in the United States to bring positive changes to urban landscapes.\n",
      "\n",
      "**Profile Summary**: \n",
      "Thabo Sithole, 26, is a Ph.D. researcher at MIT’s Media Lab within the City Science Group, originally from Johannesburg, South Africa. He has an impressive academic background in computer science, coupled with skills in programming and data analysis. Thabo's research is devoted to devising sustainable solutions for urban challenges. Yet, he finds balance by participating in marathons and exploring his passion for photography. His lived experiences in diverse cities continue to nurture his multicultural perspectives and solidify his mission to transform global urban landscapes.\n"
     ]
    }
   ],
   "source": [
    "if message:\n",
    "    messages.append(\n",
    "        {\"role\": \"user\", \"content\": message},\n",
    "    )\n",
    "    chat = openai.ChatCompletion.create(\n",
    "        model = model_api, messages=messages\n",
    "    )\n",
    "    chatGPT_reply = chat.choices[0].message.content\n",
    "    print(f\"ChatGPT: {chatGPT_reply}\")\n",
    "    profile = chatGPT_reply\n"
   ]
  },
  {
   "cell_type": "markdown",
   "id": "db54cc56",
   "metadata": {},
   "source": [
    "Save the profile locally in a JSON file. \n",
    "File name: date_ Name_GPTVersion"
   ]
  },
  {
   "cell_type": "code",
   "execution_count": 12,
   "id": "5da8a8a5",
   "metadata": {},
   "outputs": [],
   "source": [
    "message = \"generate a json files based on the profile\""
   ]
  },
  {
   "cell_type": "code",
   "execution_count": 13,
   "id": "2ea3be2b",
   "metadata": {},
   "outputs": [
    {
     "name": "stdout",
     "output_type": "stream",
     "text": [
      "ChatGPT: Sure, here is a JSON representation.\n",
      "\n",
      "```json\n",
      "{\n",
      "  \"Profile\": {\n",
      "    \"Name\": \"John Doe\",\n",
      "    \"Age\": \"27\",\n",
      "    \"Institution or Company\": \"MIT Media Lab, City Science Group\",\n",
      "    \"Marital Status\": \"Single\",\n",
      "    \"Gender\": \"Male\",\n",
      "    \"Race and Ethnicity\": \"South African\",\n",
      "    \"Nationality\": \"South African\",\n",
      "    \"Education\": {\n",
      "      \"Undergraduate - Electronics\": \"University of Cape Town, South Africa\",\n",
      "      \"Masters - Urban Science\": \"MIT Media Lab, City Science Group\"\n",
      "    },\n",
      "    \"Job Name\": \"Research Assistant\",\n",
      "    \"Work Interests\": \"Urban planning, technology in urban development, sustainable cities\",\n",
      "    \"Personal Interests\": \"Soccer, Hiking, Community Service\",\n",
      "    \"Home Address\": \"303 3rd Street, Cambridge, 02142\",\n",
      "    \"Background\": {\n",
      "      \"Born and raised in South Africa\": \"He showed an early interest in electronics and software. Received a scholarship for the masters program at MIT.\",\n",
      "      \"Job Experience\": \"Worked as intern in urban development projects in Cape Town before joining MIT.\"\n",
      "    },\n",
      "    \"Skills\": \"Programming, Data Analysis, Model Designing, Urban Planning\",\n",
      "    \"Aspirations\": \"To build smart, sustainable cities by leveraging technology\",\n",
      "    \"Dislikes\": \"Inefficiency, Procrastination\",\n",
      "    \"Dislikes Activities\": \"Sedentary lifestyle, Late dinners\",\n",
      "    \"Lifestyle\": \"Active, engaged with academic and local communities, regularly participates in sports, environmentally conscious\",\n",
      "    \"Profile Summary\": \"John is a highly motivated and talented individual working at the intersection of technology and urban planning. With his strong educational background and dedication, he aims to bring significant changes in designing sustainable cities.\"\n",
      "  }\n",
      "}\n",
      "```\n"
     ]
    }
   ],
   "source": [
    "if message:\n",
    "    messages.append(\n",
    "        {\"role\": \"user\", \"content\": message},\n",
    "    )\n",
    "    chat = openai.ChatCompletion.create(\n",
    "        model = model_api, messages=messages\n",
    "    )\n",
    "    chatGPT_reply = chat.choices[0].message.content\n",
    "    print(f\"ChatGPT: {chatGPT_reply}\")"
   ]
  },
  {
   "cell_type": "code",
   "execution_count": null,
   "id": "b9dd8fb9",
   "metadata": {},
   "outputs": [],
   "source": []
  },
  {
   "cell_type": "code",
   "execution_count": null,
   "id": "8ed4c43e",
   "metadata": {},
   "outputs": [],
   "source": []
  },
  {
   "cell_type": "code",
   "execution_count": 14,
   "id": "39a1bd6e",
   "metadata": {},
   "outputs": [
    {
     "name": "stdout",
     "output_type": "stream",
     "text": [
      "Sure, here is a JSON representation.\n",
      "\n",
      "```json\n",
      "{\n",
      "  \"Profile\": {\n",
      "    \"Name\": \"John Doe\",\n",
      "    \"Age\": \"27\",\n",
      "    \"Institution or Company\": \"MIT Media Lab, City Science Group\",\n",
      "    \"Marital Status\": \"Single\",\n",
      "    \"Gender\": \"Male\",\n",
      "    \"Race and Ethnicity\": \"South African\",\n",
      "    \"Nationality\": \"South African\",\n",
      "    \"Education\": {\n",
      "      \"Undergraduate - Electronics\": \"University of Cape Town, South Africa\",\n",
      "      \"Masters - Urban Science\": \"MIT Media Lab, City Science Group\"\n",
      "    },\n",
      "    \"Job Name\": \"Research Assistant\",\n",
      "    \"Work Interests\": \"Urban planning, technology in urban development, sustainable cities\",\n",
      "    \"Personal Interests\": \"Soccer, Hiking, Community Service\",\n",
      "    \"Home Address\": \"303 3rd Street, Cambridge, 02142\",\n",
      "    \"Background\": {\n",
      "      \"Born and raised in South Africa\": \"He showed an early interest in electronics and software. Received a scholarship for the masters program at MIT.\",\n",
      "      \"Job Experience\": \"Worked as intern in urban development projects in Cape Town before joining MIT.\"\n",
      "    },\n",
      "    \"Skills\": \"Programming, Data Analysis, Model Designing, Urban Planning\",\n",
      "    \"Aspirations\": \"To build smart, sustainable cities by leveraging technology\",\n",
      "    \"Dislikes\": \"Inefficiency, Procrastination\",\n",
      "    \"Dislikes Activities\": \"Sedentary lifestyle, Late dinners\",\n",
      "    \"Lifestyle\": \"Active, engaged with academic and local communities, regularly participates in sports, environmentally conscious\",\n",
      "    \"Profile Summary\": \"John is a highly motivated and talented individual working at the intersection of technology and urban planning. With his strong educational background and dedication, he aims to bring significant changes in designing sustainable cities.\"\n",
      "  }\n",
      "}\n",
      "```\n"
     ]
    }
   ],
   "source": [
    "print(chatGPT_reply)"
   ]
  },
  {
   "cell_type": "code",
   "execution_count": 25,
   "id": "b62e0ba9",
   "metadata": {},
   "outputs": [
    {
     "name": "stdout",
     "output_type": "stream",
     "text": [
      "{\n",
      "    \"Profile\": {\n",
      "        \"Name\": \"John Doe\",\n",
      "        \"Age\": \"27\",\n",
      "        \"Institution or Company\": \"MIT Media Lab, City Science Group\",\n",
      "        \"Marital Status\": \"Single\",\n",
      "        \"Gender\": \"Male\",\n",
      "        \"Race and Ethnicity\": \"South African\",\n",
      "        \"Nationality\": \"South African\",\n",
      "        \"Education\": {\n",
      "            \"Undergraduate - Electronics\": \"University of Cape Town, South Africa\",\n",
      "            \"Masters - Urban Science\": \"MIT Media Lab, City Science Group\"\n",
      "        },\n",
      "        \"Job Name\": \"Research Assistant\",\n",
      "        \"Work Interests\": \"Urban planning, technology in urban development, sustainable cities\",\n",
      "        \"Personal Interests\": \"Soccer, Hiking, Community Service\",\n",
      "        \"Home Address\": \"303 3rd Street, Cambridge, 02142\",\n",
      "        \"Background\": {\n",
      "            \"Born and raised in South Africa\": \"He showed an early interest in electronics and software. Received a scholarship for the masters program at MIT.\",\n",
      "            \"Job Experience\": \"Worked as intern in urban development projects in Cape Town before joining MIT.\"\n",
      "        },\n",
      "        \"Skills\": \"Programming, Data Analysis, Model Designing, Urban Planning\",\n",
      "        \"Aspirations\": \"To build smart, sustainable cities by leveraging technology\",\n",
      "        \"Dislikes\": \"Inefficiency, Procrastination\",\n",
      "        \"Dislikes Activities\": \"Sedentary lifestyle, Late dinners\",\n",
      "        \"Lifestyle\": \"Active, engaged with academic and local communities, regularly participates in sports, environmentally conscious\",\n",
      "        \"Profile Summary\": \"John is a highly motivated and talented individual working at the intersection of technology and urban planning. With his strong educational background and dedication, he aims to bring significant changes in designing sustainable cities.\"\n",
      "    }\n",
      "}\n"
     ]
    }
   ],
   "source": [
    "# Using regex to extract JSON from the text\n",
    "\n",
    "#json_chatGPT = json.loads(chatGPT_reply)\n",
    "match = re.search(r'`json\\n(.*?)\\n`', chatGPT_reply, re.DOTALL)\n",
    "if match:\n",
    "    json_text = match.group(1)\n",
    "   # print(json_text)\n",
    "    json_chatGPT = json.loads(json_text)\n",
    "    print(json.dumps(json_chatGPT, indent=4))\n",
    "else:\n",
    "    print(\"No JSON found in the text.\")\n",
    "    json_chatGPT = json.loads(chatGPT_reply)\n",
    "\n",
    "#print(json_chatGPT)"
   ]
  },
  {
   "cell_type": "code",
   "execution_count": 26,
   "id": "27063a39",
   "metadata": {},
   "outputs": [
    {
     "name": "stdout",
     "output_type": "stream",
     "text": [
      "Profile Name: Name not found\n"
     ]
    }
   ],
   "source": [
    "agent_name = json_chatGPT.get('Name', 'Name not found')\n",
    "print(\"Profile Name: \"+ agent_name)"
   ]
  },
  {
   "cell_type": "code",
   "execution_count": 27,
   "id": "059d1c10",
   "metadata": {},
   "outputs": [
    {
     "name": "stdout",
     "output_type": "stream",
     "text": [
      "00001\n"
     ]
    }
   ],
   "source": [
    "#generate agents_id\n",
    "\n",
    "agent_id = 1 #increment the id depending of the population\n",
    "agent_id_str = f\"{agent_id:05}\" \n",
    "\n",
    "print(agent_id_str)"
   ]
  },
  {
   "cell_type": "code",
   "execution_count": 28,
   "id": "d6cd1b82",
   "metadata": {},
   "outputs": [],
   "source": [
    "folder_name = neighborhood_id\n",
    "current_directory = os.getcwd()\n",
    "folder_path = os.path.join(current_directory, folder_name)\n",
    "\n",
    "if not os.path.exists(folder_path):\n",
    "    os.mkdir(folder_path)"
   ]
  },
  {
   "cell_type": "code",
   "execution_count": 29,
   "id": "012f7077",
   "metadata": {},
   "outputs": [
    {
     "name": "stdout",
     "output_type": "stream",
     "text": [
      "ag_00001_ks\n"
     ]
    }
   ],
   "source": [
    "#save profile in a json format\n",
    "\n",
    "agent_file_name = \"ag_\"+agent_id_str+\"_\"+neighborhood_id\n",
    "file_path = os.path.join(folder_path, agent_file_name+\".json\")\n",
    "\n",
    "with open(file_path, \"w\") as write_file:\n",
    "    json.dump(json_chatGPT, write_file, indent=4)\n",
    "    \n",
    "print(agent_file_name)"
   ]
  },
  {
   "cell_type": "code",
   "execution_count": 30,
   "id": "83d4d254",
   "metadata": {},
   "outputs": [],
   "source": [
    "#save profile\n",
    "file_path = os.path.join(folder_path, agent_file_name+\".txt\")\n",
    "# Open the file in write mode ('w')\n",
    "with open('file_path.txt', 'w') as file:\n",
    "    file.write(profile)"
   ]
  },
  {
   "cell_type": "markdown",
   "id": "4a5524d1",
   "metadata": {},
   "source": [
    "Create a profile picture of the Agent"
   ]
  },
  {
   "cell_type": "code",
   "execution_count": null,
   "id": "7dc18914",
   "metadata": {},
   "outputs": [],
   "source": []
  },
  {
   "cell_type": "code",
   "execution_count": null,
   "id": "6e22a7ff",
   "metadata": {},
   "outputs": [],
   "source": []
  }
 ],
 "metadata": {
  "kernelspec": {
   "display_name": "Python 3 (ipykernel)",
   "language": "python",
   "name": "python3"
  },
  "language_info": {
   "codemirror_mode": {
    "name": "ipython",
    "version": 3
   },
   "file_extension": ".py",
   "mimetype": "text/x-python",
   "name": "python",
   "nbconvert_exporter": "python",
   "pygments_lexer": "ipython3",
   "version": "3.11.4"
  }
 },
 "nbformat": 4,
 "nbformat_minor": 5
}
