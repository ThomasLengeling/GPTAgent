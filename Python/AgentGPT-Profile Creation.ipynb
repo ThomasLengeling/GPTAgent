{
 "cells": [
  {
   "cell_type": "markdown",
   "id": "2dfea602",
   "metadata": {},
   "source": [
    "# Profile creation of a single Agent using LLM\n",
    "\n",
    "Generate simple Agent profile with the following characteristics:\n",
    "What are the baseline agent inputs for an agent creation?\n",
    "\n",
    "- Home Address\n",
    "- Occupation\n",
    "- Origin\n",
    "- Demographics (Gender, Age, etc)"
   ]
  },
  {
   "cell_type": "code",
   "execution_count": null,
   "id": "a1ff21ac",
   "metadata": {},
   "outputs": [],
   "source": [
    "pip install langchain\n",
    "pip install 'langchain[all]'"
   ]
  },
  {
   "cell_type": "code",
   "execution_count": 3,
   "id": "00a4ea0f",
   "metadata": {},
   "outputs": [],
   "source": [
    "neribhood_id = \"ks\""
   ]
  },
  {
   "cell_type": "code",
   "execution_count": 4,
   "id": "e8a26041",
   "metadata": {},
   "outputs": [],
   "source": [
    "import os\n",
    "import openai\n",
    "import json\n",
    "import geocoder\n",
    "import time\n",
    "import socket\n",
    "import json\n",
    "from dotenv import load_dotenv\n",
    "from langchain.llms import OpenAI"
   ]
  },
  {
   "cell_type": "markdown",
   "id": "b3b70a36",
   "metadata": {},
   "source": [
    "## OpenAI  \n"
   ]
  },
  {
   "cell_type": "code",
   "execution_count": 5,
   "id": "4c298195",
   "metadata": {},
   "outputs": [],
   "source": [
    "load_dotenv()\n",
    "openai.api_key = os.environ.get('OPENAI_KEY')\n",
    "\n",
    "model_api = \"gpt-3.5-turbo\""
   ]
  },
  {
   "cell_type": "code",
   "execution_count": 6,
   "id": "95f34830",
   "metadata": {},
   "outputs": [],
   "source": [
    "messages = [ {\"role\": \"system\", \"content\": \"You are a intelligent assistant.\"} ]"
   ]
  },
  {
   "cell_type": "markdown",
   "id": "56251245",
   "metadata": {},
   "source": [
    "Connect to a databse and obtain the real-time address, occupation, origin, "
   ]
  },
  {
   "cell_type": "code",
   "execution_count": 7,
   "id": "a20c5770",
   "metadata": {},
   "outputs": [],
   "source": [
    "# Obtain Address from a real location, for example a land-use database which includes a residential land-type\n",
    "Address = \"303 3rd Street, Cambridge, 02142\""
   ]
  },
  {
   "cell_type": "code",
   "execution_count": 8,
   "id": "9698cdb2",
   "metadata": {},
   "outputs": [],
   "source": [
    "# Include possible occupation \n",
    "Occupation = \"MIT Media Lab Student at the City Science Group\""
   ]
  },
  {
   "cell_type": "code",
   "execution_count": 9,
   "id": "48f0f1c0",
   "metadata": {},
   "outputs": [],
   "source": [
    "Origin = \"south africa\""
   ]
  },
  {
   "cell_type": "markdown",
   "id": "1712fdc5",
   "metadata": {},
   "source": [
    "### Base Topics for each profile"
   ]
  },
  {
   "cell_type": "code",
   "execution_count": 10,
   "id": "0cef5d41",
   "metadata": {},
   "outputs": [
    {
     "name": "stdout",
     "output_type": "stream",
     "text": [
      "Gender\n",
      "Education\n",
      "Aspirations\n",
      "Background\n",
      "Work Interests\n",
      "Profile Summary\n",
      "Lifestyle\n",
      "Marital Status\n",
      "Home Address\n",
      "Dislikes Activities\n",
      "Age\n",
      "Skills\n",
      "Occupation\n",
      "Name\n",
      "Nationality/Origin\n",
      "Personal Interests\n",
      "Dislikes\n",
      "Race and Ethnicity\n"
     ]
    }
   ],
   "source": [
    "topics_list = {\"Name\", \"Age\", \"Nationality/Origin\", \"Gender\", \"Marital Status\", \"Race and Ethnicity\", \"Home Address\", \"Profile Summary\", \"Education\", \"Occupation\", \"Personal Interests\", \"Work Interests\", \"Background\", \"Skills\", \"Lifestyle\",\"Dislikes\", \"Dislikes Activities\", \"Aspirations\"}\n",
    "print(*topics_list, sep='\\n') \n",
    "topics = \", \" .join([str(n) for n in topics_list])"
   ]
  },
  {
   "cell_type": "code",
   "execution_count": 11,
   "id": "163a5b53",
   "metadata": {},
   "outputs": [
    {
     "name": "stdout",
     "output_type": "stream",
     "text": [
      "Chat Message: Define a detailed profile for a MIT Media Lab Student at the City Science Group from south africa who has home address 303 3rd Street, Cambridge, 02142. Finally add the following topics Gender, Education, Aspirations, Background, Work Interests, Profile Summary, Lifestyle, Marital Status, Home Address, Dislikes Activities, Age, Skills, Occupation, Name, Nationality/Origin, Personal Interests, Dislikes, Race and Ethnicity\n"
     ]
    }
   ],
   "source": [
    "message = \"Define a detailed profile for a \"+Occupation+\" from \"+Origin+\" who has home address \"+Address+\". Finally add the following topics \"+topics\n",
    "print(f\"Chat Message: {message}\")"
   ]
  },
  {
   "cell_type": "code",
   "execution_count": 12,
   "id": "e62bec5c",
   "metadata": {},
   "outputs": [
    {
     "name": "stdout",
     "output_type": "stream",
     "text": [
      "ChatGPT: Name: Jane Smith\n",
      "Gender: Female\n",
      "Age: 25\n",
      "Nationality/Origin: South African\n",
      "Race and Ethnicity: African\n",
      "Education: Jane holds a Bachelor's degree in Architecture from the University of Cape Town and is currently pursuing a Master's degree in City Science at the Massachusetts Institute of Technology (MIT) Media Lab in Cambridge, United States.\n",
      "Background: Hailing from South Africa, Jane has always been fascinated by the intersection of urban planning and technology. Growing up in a rapidly changing city, she witnessed firsthand the challenges faced by urban environments and the need for sustainable and efficient solutions. This fueled her passion for exploring innovative approaches to urban development and led her to pursue further studies at MIT Media Lab.\n",
      "Occupation: Jane is a student at the City Science Group within the MIT Media Lab.\n",
      "Aspirations: Jane aims to contribute to the development of smart and sustainable cities in South Africa and around the world. She aspires to work on projects that address societal challenges and create more livable and inclusive urban environments.\n",
      "Work Interests: Jane is particularly interested in urban mobility, infrastructure design, sustainable architecture, and the application of emerging technologies such as AI and IoT in urban planning.\n",
      "Skills: Jane possesses strong analytical and problem-solving skills, architectural design expertise, data analysis proficiency, and an interdisciplinary mindset. She is also a proficient coder.\n",
      "Profile Summary: Jane is a passionate, driven, and forward-thinking individual with a deep commitment to creating smarter and more sustainable cities. She brings a unique blend of architectural knowledge and technical skills to the field of urban planning, enabling her to explore innovative solutions and drive positive change in urban environments.\n",
      "Lifestyle: Jane maintains an active lifestyle, enjoying cycling, hiking, and exploring new cities during her free time. She also values a healthy work-life balance and actively seeks opportunities for personal growth and development.\n",
      "Marital Status: Single\n",
      "Home Address: 303 3rd Street, Cambridge, 02142\n",
      "Personal Interests: Besides her academic and professional pursuits, Jane enjoys photography, reading books on urban planning and design, and engaging in community involvement initiatives.\n",
      "Dislikes: Jane dislikes inefficiency, lack of inclusiveness in urban planning, and disregard for sustainable development principles.\n",
      "Disliked Activities: Jane does not enjoy monotonous routines and prefers to be engaged in dynamic and intellectually stimulating projects.\n",
      "\n"
     ]
    }
   ],
   "source": [
    "if message:\n",
    "    messages.append(\n",
    "        {\"role\": \"user\", \"content\": message},\n",
    "    )\n",
    "    chat = openai.ChatCompletion.create(\n",
    "        model = model_api, messages=messages\n",
    "    )\n",
    "    chatGPT_reply = chat.choices[0].message.content\n",
    "    print(f\"ChatGPT: {chatGPT_reply}\")"
   ]
  },
  {
   "cell_type": "markdown",
   "id": "db54cc56",
   "metadata": {},
   "source": [
    "Save the profile locally in a JSON file. \n",
    "File name: date_ Name_GPTVersion"
   ]
  },
  {
   "cell_type": "code",
   "execution_count": 13,
   "id": "2ea3be2b",
   "metadata": {},
   "outputs": [],
   "source": [
    "message = \"output an organized profile in a json file\""
   ]
  },
  {
   "cell_type": "code",
   "execution_count": 14,
   "id": "8ed4c43e",
   "metadata": {},
   "outputs": [
    {
     "name": "stdout",
     "output_type": "stream",
     "text": [
      "ChatGPT: {\n",
      "  \"Name\": \"John Doe\",\n",
      "  \"Gender\": \"Male\",\n",
      "  \"Age\": 25,\n",
      "  \"Nationality/Origin\": \"South African\",\n",
      "  \"Race\": \"African\",\n",
      "  \"Ethnicity\": \"Xhosa\",\n",
      "  \"Education\": \"Bachelor's Degree in Computer Science\",\n",
      "  \"Occupation\": \"MIT Media Lab Student\",\n",
      "  \"Work Interests\": [\"Urban planning\", \"Smart cities\", \"Sustainable development\"],\n",
      "  \"Aspirations\": [\"Creating innovative urban solutions\", \"Contributing to the development of smart cities\"],\n",
      "  \"Background\": \"Grew up in a small town in South Africa with limited access to technology. Developed a strong interest in computer science during high school.\",\n",
      "  \"Skills\": [\"Programming\", \"Data analysis\", \"Spatial analysis\"],\n",
      "  \"Profile Summary\": \"Passionate and driven MIT Media Lab Student with a focus on leveraging technology for urban planning and sustainable development. Committed to creating innovative solutions for smart cities.\",\n",
      "  \"Lifestyle\": [\"Active lifestyle\", \"Enjoys outdoor activities\"],\n",
      "  \"Marital Status\": \"Single\",\n",
      "  \"Home Address\": \"303 3rd Street, Cambridge, 02142\",\n",
      "  \"Personal Interests\": [\"Technology\", \"Urban planning\", \"Photography\"],\n",
      "  \"Dislikes\": [\"Inefficient urban infrastructure\", \"Environmental pollution\"],\n",
      "  \"Disliked Activities\": [\"Wasting time\", \"Disorganization\"]\n",
      "}\n"
     ]
    }
   ],
   "source": [
    "if message:\n",
    "    messages.append(\n",
    "        {\"role\": \"user\", \"content\": message},\n",
    "    )\n",
    "    chat = openai.ChatCompletion.create(\n",
    "        model = model_api, messages=messages\n",
    "    )\n",
    "    chatGPT_reply = chat.choices[0].message.content\n",
    "    print(f\"ChatGPT: {chatGPT_reply}\")"
   ]
  },
  {
   "cell_type": "code",
   "execution_count": 15,
   "id": "b62e0ba9",
   "metadata": {},
   "outputs": [
    {
     "ename": "NameError",
     "evalue": "name 're' is not defined",
     "output_type": "error",
     "traceback": [
      "\u001b[0;31m---------------------------------------------------------------------------\u001b[0m",
      "\u001b[0;31mNameError\u001b[0m                                 Traceback (most recent call last)",
      "Cell \u001b[0;32mIn[15], line 2\u001b[0m\n\u001b[1;32m      1\u001b[0m \u001b[38;5;66;03m# Using regex to extract JSON from the text\u001b[39;00m\n\u001b[0;32m----> 2\u001b[0m match \u001b[38;5;241m=\u001b[39m \u001b[43mre\u001b[49m\u001b[38;5;241m.\u001b[39msearch(\u001b[38;5;124mr\u001b[39m\u001b[38;5;124m'\u001b[39m\u001b[38;5;124mProfile:\u001b[39m\u001b[38;5;124m\\\u001b[39m\u001b[38;5;124ms*(\u001b[39m\u001b[38;5;124m\\\u001b[39m\u001b[38;5;124m{\u001b[39m\u001b[38;5;124m.*?\u001b[39m\u001b[38;5;124m\\\u001b[39m\u001b[38;5;124m})\u001b[39m\u001b[38;5;124m'\u001b[39m, chatGPT_reply, re\u001b[38;5;241m.\u001b[39mDOTALL)\n\u001b[1;32m      3\u001b[0m \u001b[38;5;28;01mif\u001b[39;00m match:\n\u001b[1;32m      4\u001b[0m     json_text \u001b[38;5;241m=\u001b[39m match\u001b[38;5;241m.\u001b[39mgroup(\u001b[38;5;241m1\u001b[39m)\n",
      "\u001b[0;31mNameError\u001b[0m: name 're' is not defined"
     ]
    }
   ],
   "source": [
    "# Using regex to extract JSON from the text\n",
    "match = re.search(r'Profile:\\s*(\\{.*?\\})', chatGPT_reply, re.DOTALL)\n",
    "if match:\n",
    "    json_text = match.group(1)\n",
    "    json_chatGPT = json.loads(json_text)\n",
    "    print(json_data)\n",
    "else:\n",
    "    print(\"No JSON found in the text.\")"
   ]
  },
  {
   "cell_type": "code",
   "execution_count": null,
   "id": "27063a39",
   "metadata": {},
   "outputs": [],
   "source": [
    "agent_name = json_chatGPT.get('Name', 'Name not found')\n",
    "print(\"Profile Name: \"+ agent_name)"
   ]
  },
  {
   "cell_type": "code",
   "execution_count": null,
   "id": "059d1c10",
   "metadata": {},
   "outputs": [],
   "source": [
    "#generate agents_id\n",
    "\n",
    "agent_id = 1\n",
    "agent_id_str = f\"{agent_id:05}\" \n",
    "\n",
    "print(agent_id_str)"
   ]
  },
  {
   "cell_type": "code",
   "execution_count": null,
   "id": "d6cd1b82",
   "metadata": {},
   "outputs": [],
   "source": [
    "folder_name = neribhood_id\n",
    "current_directory = os.getcwd()\n",
    "folder_path = os.path.join(current_directory, folder_name)\n",
    "\n",
    "if not os.path.exists(folder_path):\n",
    "    os.mkdir(folder_path)"
   ]
  },
  {
   "cell_type": "code",
   "execution_count": null,
   "id": "012f7077",
   "metadata": {},
   "outputs": [],
   "source": [
    "agent_file_name = \"ag_\"+agent_id_str+\"_\"+neribhood_id+\".json\"\n",
    "file_path = os.path.join(folder_path, agent_file_name)\n",
    "\n",
    "with open(file_path, \"w\") as write_file:\n",
    "    json.dump(json_chatGPT, write_file, indent=4)\n",
    "    \n",
    "print(agent_file_name)"
   ]
  },
  {
   "cell_type": "code",
   "execution_count": null,
   "id": "83d4d254",
   "metadata": {},
   "outputs": [],
   "source": []
  },
  {
   "cell_type": "markdown",
   "id": "4a5524d1",
   "metadata": {},
   "source": [
    "Create a profile picture of the Agent"
   ]
  },
  {
   "cell_type": "code",
   "execution_count": null,
   "id": "7dc18914",
   "metadata": {},
   "outputs": [],
   "source": []
  }
 ],
 "metadata": {
  "kernelspec": {
   "display_name": "Python 3 (ipykernel)",
   "language": "python",
   "name": "python3"
  },
  "language_info": {
   "codemirror_mode": {
    "name": "ipython",
    "version": 3
   },
   "file_extension": ".py",
   "mimetype": "text/x-python",
   "name": "python",
   "nbconvert_exporter": "python",
   "pygments_lexer": "ipython3",
   "version": "3.11.4"
  }
 },
 "nbformat": 4,
 "nbformat_minor": 5
}
