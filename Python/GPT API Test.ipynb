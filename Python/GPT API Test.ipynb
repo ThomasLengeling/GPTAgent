{
 "cells": [
  {
   "cell_type": "code",
   "execution_count": 1,
   "id": "2e12cb34",
   "metadata": {},
   "outputs": [],
   "source": [
    "import os\n",
    "import openai\n",
    "import json\n",
    "import geocoder\n",
    "import time\n",
    "import socket"
   ]
  },
  {
   "cell_type": "code",
   "execution_count": 2,
   "id": "d3416f76",
   "metadata": {},
   "outputs": [],
   "source": [
    "openai.api_key = \" "\n",
    "#model_api = \"gpt-3.5-turbo\"\n",
    "model_api = \"gpt-4-0314\""
   ]
  },
  {
   "cell_type": "code",
   "execution_count": 3,
   "id": "8e5c38da",
   "metadata": {},
   "outputs": [],
   "source": [
    "messages = [ {\"role\": \"system\", \"content\": \"You are a intelligent assistant.\"} ]"
   ]
  },
  {
   "cell_type": "code",
   "execution_count": 4,
   "id": "85dfeb6c",
   "metadata": {},
   "outputs": [
    {
     "ename": "InvalidRequestError",
     "evalue": "The model: `gpt-4-0314` does not exist",
     "output_type": "error",
     "traceback": [
      ""
     ]
    }
   ],
   "source": [
    "message = \"Define a detailed profile for one MIT Media Lab student, a international student from Mexico the City Science Group who lives at 303 3rd Street, cambridge\"\n",
    "if message:\n",
    "    messages.append(\n",
    "        {\"role\": \"user\", \"content\": message},\n",
    "    )\n",
    "    chat = openai.ChatCompletion.create(\n",
    "        model = model_api, messages=messages\n",
    "    )\n",
    "    reply = chat.choices[0].message.content\n",
    "    print(f\"ChatGPT: {reply}\")"
   ]
  },
  {
   "cell_type": "code",
   "execution_count": 8,
   "id": "eda6bb3c",
   "metadata": {},
   "outputs": [],
   "source": [
    "message = \"Create a detailed hour-by-hour sequence of activities for each person using actual points of interest in Kendall Square and on the MIT campus\""
   ]
  },
  {
   "cell_type": "code",
   "execution_count": null,
   "id": "118fa8a6",
   "metadata": {},
   "outputs": [],
   "source": [
    "if message:\n",
    "    messages.append(\n",
    "        {\"role\": \"user\", \"content\": message},\n",
    "    )\n",
    "    chat = openai.ChatCompletion.create(\n",
    "        model=model_api, messages=messages\n",
    "    )\n",
    "    reply = chat.choices[0].message.content\n",
    "    print(f\"ChatGPT: {reply}\")"
   ]
  },
  {
   "cell_type": "code",
   "execution_count": null,
   "id": "47d570e8",
   "metadata": {},
   "outputs": [],
   "source": [
    "message = \"create the json format with all the times and addresses\""
   ]
  },
  {
   "cell_type": "code",
   "execution_count": null,
   "id": "0931cf00",
   "metadata": {},
   "outputs": [],
   "source": [
    "if message:\n",
    "    messages.append(\n",
    "        {\"role\": \"user\", \"content\": message},\n",
    "    )\n",
    "    chat = openai.ChatCompletion.create(\n",
    "        model=model_api, messages=messages\n",
    "    )\n",
    "    reply = chat.choices[0].message.content\n",
    "    print(f\"ChatGPT: {reply}\")"
   ]
  },
  {
   "cell_type": "code",
   "execution_count": null,
   "id": "6b5cca16",
   "metadata": {},
   "outputs": [],
   "source": [
    "message = \"udapte home adreess with the profile's adress, and add another column with if they took a car or walked to the activity, if they did not move add stay\"\n",
    "if message:\n",
    "    messages.append(\n",
    "        {\"role\": \"user\", \"content\": message},\n",
    "    )\n",
    "    chat = openai.ChatCompletion.create(\n",
    "        model = model_api, messages=messages\n",
    "    )\n",
    "    reply = chat.choices[0].message.content\n",
    "    print(f\"ChatGPT: {reply}\")"
   ]
  },
  {
   "cell_type": "code",
   "execution_count": null,
   "id": "faf0196e",
   "metadata": {},
   "outputs": [],
   "source": [
    "message = \"the complete detailed day from wakeup to bedtime\"\n",
    "if message:\n",
    "    messages.append(\n",
    "        {\"role\": \"user\", \"content\": message},\n",
    "    )\n",
    "    chat = openai.ChatCompletion.create(\n",
    "        model = model_api, messages=messages\n",
    "    )\n",
    "    reply = chat.choices[0].message.content\n",
    "    print(f\"ChatGPT: {reply}\")"
   ]
  },
  {
   "cell_type": "code",
   "execution_count": 7,
   "id": "3e8a26d0",
   "metadata": {},
   "outputs": [],
   "source": [
    "\n",
    "json_activities = {\n",
    "  \"Profile\": {\n",
    "    \"Name\": \"John Smith\",\n",
    "    \"Age\": 26,\n",
    "    \"Nationality\": \"American\",\n",
    "    \"Academic Background\": \"University of California, Berkeley\",\n",
    "    \"Research Interests\": [\"Sustainable urban systems\", \"Equitable city design\", \"Resilience in urban infrastructure\", \"Data-driven urban planning\", \"Smart cities\"],\n",
    "    \"Residence\": \"303 3rd St, Cambridge, MA 02142, USA\",\n",
    "    \"Personal Interests\": [\"Cycling\", \"Sustainability\", \"Reading\", \"Cooking\", \"Podcasts\", \"Photography\"],\n",
    "    \"Skills\": [\"Python\", \"R\", \"GIS\", \"Basic machine learning\", \"Communication\", \"Data analysis\", \"Project management\"]\n",
    "  },\n",
    "  \"Day Schedule\": {\n",
    "    \"MatrixName\": \"John Smith's Daily Activities\",\n",
    "    \"Activities\": [\n",
    "      {\"Time\": 420, \"Activity\": \"Wake up, Stretch, Prepare breakfast\", \"Address\": \"303 3rd St, Cambridge, MA 02142, USA\", \"Transportation\": \"Stay\"},\n",
    "      {\"Time\": 480, \"Activity\": \"Reading research articles and papers\", \"Address\": \"303 3rd St, Cambridge, MA 02142, USA\", \"Transportation\": \"Stay\"},\n",
    "      {\"Time\": 540, \"Activity\": \"Bike ride to MIT campus\", \"Address\": \"MIT Campus, Cambridge, MA 02142, USA\", \"Transportation\": \"Bike\"},\n",
    "      {\"Time\": 570, \"Activity\": \"Meeting with research advisor at MIT Media Lab\", \"Address\": \"75 Amherst St, Cambridge, MA 02139, USA\", \"Transportation\": \"Walk\"},\n",
    "      {\"Time\": 660, \"Activity\": \"Attend seminar on sustainable urban development at Bartos Theater\", \"Address\": \"20 Ames St, Cambridge, MA 02142, USA\", \"Transportation\": \"Walk\"},\n",
    "      {\"Time\": 750, \"Activity\": \"Lunch at Clover Food Lab food truck\", \"Address\": \"Kendall Square, Cambridge, MA 02142, USA\", \"Transportation\": \"Walk\"},\n",
    "      {\"Time\": 810, \"Activity\": \"Research and project work at MIT Media Lab\", \"Address\": \"75 Amherst St, Cambridge, MA 02139, USA\", \"Transportation\": \"Walk\"},\n",
    "      {\"Time\": 900, \"Activity\": \"Attend data visualization workshop at MIT Libraries\", \"Address\": \"160 Memorial Dr, Cambridge, MA 02142, USA\", \"Transportation\": \"Walk\"},\n",
    "      {\"Time\": 990, \"Activity\": \"Group meeting at R&D Commons\", \"Address\": \"32 Vassar St, Cambridge, MA 02139, USA\", \"Transportation\": \"Walk\"},\n",
    "      {\"Time\": 1080, \"Activity\": \"Workout and swim at Zesiger Sports and Fitness Center\", \"Address\": \"120 Vassar St, Cambridge, MA 02139, USA\", \"Transportation\": \"Walk\"},\n",
    "      {\"Time\": 1170, \"Activity\": \"Bike ride back to the apartment and prepare dinner\", \"Address\": \"303 3rd St, Cambridge, MA 02142, USA\", \"Transportation\": \"Bike\"},\n",
    "      {\"Time\": 1260, \"Activity\": \"Reading book / Podcast\", \"Address\": \"303 3rd St, Cambridge, MA 02142, USA\", \"Transportation\": \"Stay\"},\n",
    "      {\"Time\": 1350, \"Activity\": \"Review of next day's tasks\", \"Address\": \"303 3rd St, Cambridge, MA 02142, USA\", \"Transportation\": \"Stay\"},\n",
    "      {\"Time\": 1380, \"Activity\": \"Bedtime\", \"Address\": \"303 3rd St, Cambridge, MA 02142, USA\", \"Transportation\": \"Stay\"}\n",
    "    ]\n",
    "  }\n",
    "}\n",
    "\n"
   ]
  },
  {
   "cell_type": "code",
   "execution_count": 11,
   "id": "1b14f319",
   "metadata": {},
   "outputs": [
    {
     "name": "stdout",
     "output_type": "stream",
     "text": [
      "303 3rd St, Cambridge, MA 02142, USA\n",
      "303 3rd St, Cambridge, MA 02142, USA\n",
      "MIT Campus, Cambridge, MA 02142, USA\n",
      "75 Amherst St, Cambridge, MA 02139, USA\n",
      "20 Ames St, Cambridge, MA 02142, USA\n",
      "Kendall Square, Cambridge, MA 02142, USA\n",
      "75 Amherst St, Cambridge, MA 02139, USA\n",
      "160 Memorial Dr, Cambridge, MA 02142, USA\n",
      "32 Vassar St, Cambridge, MA 02139, USA\n",
      "120 Vassar St, Cambridge, MA 02139, USA\n",
      "303 3rd St, Cambridge, MA 02142, USA\n",
      "303 3rd St, Cambridge, MA 02142, USA\n",
      "303 3rd St, Cambridge, MA 02142, USA\n",
      "303 3rd St, Cambridge, MA 02142, USA\n",
      "303 3rd St, Cambridge, MA 02142, USA\n"
     ]
    }
   ],
   "source": [
    "activities = json_activities#json.loads(json_activities)\n",
    "#activities = json.loads(json_activities)\n",
    "chagpt_locations = []\n",
    "\n",
    "# Iterate over each activity in the schedule\n",
    "for activity in activities[\"Day Schedule\"][\"Activities\"]:\n",
    "    # Extract and print the Address\n",
    "    location = activity[\"Address\"]\n",
    "    chagpt_locations.append(location)\n",
    "    print(location)\n",
    "    \n",
    "print(chagpt_locations[0])"
   ]
  },
  {
   "cell_type": "code",
   "execution_count": 12,
   "id": "73a11bd4",
   "metadata": {},
   "outputs": [],
   "source": [
    "g = geocoder.tomtom('San Francisco, CA', key='S5gXe7d9lxpiWwDFIRuOjR3qAxcN3qJZ')"
   ]
  },
  {
   "cell_type": "code",
   "execution_count": 13,
   "id": "41e96913",
   "metadata": {},
   "outputs": [
    {
     "name": "stdout",
     "output_type": "stream",
     "text": [
      "303 3rd St, Cambridge, MA 02142, USA\n",
      "<[OK] Tomtom - Geocode [303 3rd Street, Cambridge, MA 02142]>\n",
      "42.36458\n",
      "-71.08401\n",
      "303 3rd St, Cambridge, MA 02142, USA\n",
      "<[OK] Tomtom - Geocode [303 3rd Street, Cambridge, MA 02142]>\n",
      "42.36458\n",
      "-71.08401\n",
      "MIT Campus, Cambridge, MA 02142, USA\n",
      "<[OK] Tomtom - Geocode [Cambridge, MA 02142]>\n",
      "42.36225\n",
      "-71.08473\n",
      "75 Amherst St, Cambridge, MA 02139, USA\n",
      "<[OK] Tomtom - Geocode [75 Amherst Street, Cambridge, MA 02142]>\n",
      "42.36038\n",
      "-71.08731\n",
      "20 Ames St, Cambridge, MA 02142, USA\n",
      "<[OK] Tomtom - Geocode [20 Ames Street, Cambridge, MA 02142]>\n",
      "42.36065\n",
      "-71.08744\n",
      "Kendall Square, Cambridge, MA 02142, USA\n",
      "<[OK] Tomtom - Geocode [Kendall Square, Cambridge, MA 02141]>\n",
      "42.36798\n",
      "-71.08995\n",
      "75 Amherst St, Cambridge, MA 02139, USA\n",
      "<[OK] Tomtom - Geocode [75 Amherst Street, Cambridge, MA 02142]>\n",
      "42.36038\n",
      "-71.08731\n",
      "160 Memorial Dr, Cambridge, MA 02142, USA\n",
      "<[OK] Tomtom - Geocode [160 Memorial Drive, Cambridge, MA 02139]>\n",
      "42.35941\n",
      "-71.08899\n",
      "32 Vassar St, Cambridge, MA 02139, USA\n",
      "<[OK] Tomtom - Geocode [32 Vassar Street, Cambridge, MA 02139]>\n",
      "42.35984\n",
      "-71.09125\n",
      "120 Vassar St, Cambridge, MA 02139, USA\n",
      "<[OK] Tomtom - Geocode [120 Vassar Street, Cambridge, MA 02139]>\n",
      "42.35856\n",
      "-71.0961\n",
      "303 3rd St, Cambridge, MA 02142, USA\n",
      "<[OK] Tomtom - Geocode [303 3rd Street, Cambridge, MA 02142]>\n",
      "42.36458\n",
      "-71.08401\n",
      "303 3rd St, Cambridge, MA 02142, USA\n",
      "<[OK] Tomtom - Geocode [303 3rd Street, Cambridge, MA 02142]>\n",
      "42.36458\n",
      "-71.08401\n",
      "303 3rd St, Cambridge, MA 02142, USA\n",
      "<[OK] Tomtom - Geocode [303 3rd Street, Cambridge, MA 02142]>\n",
      "42.36458\n",
      "-71.08401\n",
      "303 3rd St, Cambridge, MA 02142, USA\n",
      "<[OK] Tomtom - Geocode [303 3rd Street, Cambridge, MA 02142]>\n",
      "42.36458\n",
      "-71.08401\n"
     ]
    }
   ],
   "source": [
    "real_geo_locations_lat = []\n",
    "real_geo_locations_lng = []\n",
    "real_geo_locations = []\n",
    "\n",
    "#making an instance of Nominatim class\n",
    "#geolocator = Nominatim(user_agent=\"my_request\")\n",
    " \n",
    "#applying geocode method to get the location\n",
    "for location in chagpt_locations: \n",
    "    #new_realtime = geolocator.geocode(location)\n",
    "    print(location)\n",
    "    new_realtime = geocoder.tomtom(location, key='S5gXe7d9lxpiWwDFIRuOjR3qAxcN3qJZ')\n",
    "    print(new_realtime)\n",
    "    print(new_realtime.lat)\n",
    "    print(new_realtime.lng)\n",
    "    real_geo_locations_lat.append(new_realtime.lat)\n",
    "    real_geo_locations_lng.append(new_realtime.lng)\n",
    "    real_geo_locations.append(new_realtime)\n",
    "    time.sleep(2)\n",
    "    "
   ]
  },
  {
   "cell_type": "code",
   "execution_count": 14,
   "id": "4f423ec1",
   "metadata": {},
   "outputs": [],
   "source": [
    "# Check if the number of new locations matches the number of activities in the schedule\n",
    "if len(real_geo_locations) != len(activities[\"Day Schedule\"][\"Activities\"]):\n",
    "    print(\"The number of new locations must match the number of activities.\")\n",
    "else:\n",
    "    # Iterate over each activity and update the location\n",
    "    for activity, lat, lng in zip(activities[\"Day Schedule\"][\"Activities\"], real_geo_locations_lat, real_geo_locations_lng):\n",
    "        activity['lat'] = lat\n",
    "        activity['log'] = lng\n",
    "        #activities.update(activity)\n",
    "\n",
    "# Convert the updated data back to a JSON string\n",
    "updated_json_string = json.dumps(activities, indent=2)"
   ]
  },
  {
   "cell_type": "code",
   "execution_count": 18,
   "id": "33d2dd88",
   "metadata": {},
   "outputs": [
    {
     "name": "stdout",
     "output_type": "stream",
     "text": [
      "{\n",
      "  \"Profile\": {\n",
      "    \"Name\": \"John Smith\",\n",
      "    \"Age\": 26,\n",
      "    \"Nationality\": \"American\",\n",
      "    \"Academic Background\": \"University of California, Berkeley\",\n",
      "    \"Research Interests\": [\n",
      "      \"Sustainable urban systems\",\n",
      "      \"Equitable city design\",\n",
      "      \"Resilience in urban infrastructure\",\n",
      "      \"Data-driven urban planning\",\n",
      "      \"Smart cities\"\n",
      "    ],\n",
      "    \"Residence\": \"303 3rd St, Cambridge, MA 02142, USA\",\n",
      "    \"Personal Interests\": [\n",
      "      \"Cycling\",\n",
      "      \"Sustainability\",\n",
      "      \"Reading\",\n",
      "      \"Cooking\",\n",
      "      \"Podcasts\",\n",
      "      \"Photography\"\n",
      "    ],\n",
      "    \"Skills\": [\n",
      "      \"Python\",\n",
      "      \"R\",\n",
      "      \"GIS\",\n",
      "      \"Basic machine learning\",\n",
      "      \"Communication\",\n",
      "      \"Data analysis\",\n",
      "      \"Project management\"\n",
      "    ]\n",
      "  },\n",
      "  \"Day Schedule\": {\n",
      "    \"MatrixName\": \"John Smith's Daily Activities\",\n",
      "    \"Activities\": [\n",
      "      {\n",
      "        \"Time\": 420,\n",
      "        \"Activity\": \"Wake up, Stretch, Prepare breakfast\",\n",
      "        \"Address\": \"303 3rd St, Cambridge, MA 02142, USA\",\n",
      "        \"Transportation\": \"Stay\",\n",
      "        \"lat\": 42.36458,\n",
      "        \"log\": -71.08401\n",
      "      },\n",
      "      {\n",
      "        \"Time\": 480,\n",
      "        \"Activity\": \"Reading research articles and papers\",\n",
      "        \"Address\": \"303 3rd St, Cambridge, MA 02142, USA\",\n",
      "        \"Transportation\": \"Stay\",\n",
      "        \"lat\": 42.36458,\n",
      "        \"log\": -71.08401\n",
      "      },\n",
      "      {\n",
      "        \"Time\": 540,\n",
      "        \"Activity\": \"Bike ride to MIT campus\",\n",
      "        \"Address\": \"MIT Campus, Cambridge, MA 02142, USA\",\n",
      "        \"Transportation\": \"Bike\",\n",
      "        \"lat\": 42.36225,\n",
      "        \"log\": -71.08473\n",
      "      },\n",
      "      {\n",
      "        \"Time\": 570,\n",
      "        \"Activity\": \"Meeting with research advisor at MIT Media Lab\",\n",
      "        \"Address\": \"75 Amherst St, Cambridge, MA 02139, USA\",\n",
      "        \"Transportation\": \"Walk\",\n",
      "        \"lat\": 42.36038,\n",
      "        \"log\": -71.08731\n",
      "      },\n",
      "      {\n",
      "        \"Time\": 660,\n",
      "        \"Activity\": \"Attend seminar on sustainable urban development at Bartos Theater\",\n",
      "        \"Address\": \"20 Ames St, Cambridge, MA 02142, USA\",\n",
      "        \"Transportation\": \"Walk\",\n",
      "        \"lat\": 42.36065,\n",
      "        \"log\": -71.08744\n",
      "      },\n",
      "      {\n",
      "        \"Time\": 750,\n",
      "        \"Activity\": \"Lunch at Clover Food Lab food truck\",\n",
      "        \"Address\": \"Kendall Square, Cambridge, MA 02142, USA\",\n",
      "        \"Transportation\": \"Walk\",\n",
      "        \"lat\": 42.36798,\n",
      "        \"log\": -71.08995\n",
      "      },\n",
      "      {\n",
      "        \"Time\": 810,\n",
      "        \"Activity\": \"Research and project work at MIT Media Lab\",\n",
      "        \"Address\": \"75 Amherst St, Cambridge, MA 02139, USA\",\n",
      "        \"Transportation\": \"Walk\",\n",
      "        \"lat\": 42.36038,\n",
      "        \"log\": -71.08731\n",
      "      },\n",
      "      {\n",
      "        \"Time\": 900,\n",
      "        \"Activity\": \"Attend data visualization workshop at MIT Libraries\",\n",
      "        \"Address\": \"160 Memorial Dr, Cambridge, MA 02142, USA\",\n",
      "        \"Transportation\": \"Walk\",\n",
      "        \"lat\": 42.35941,\n",
      "        \"log\": -71.08899\n",
      "      },\n",
      "      {\n",
      "        \"Time\": 990,\n",
      "        \"Activity\": \"Group meeting at R&D Commons\",\n",
      "        \"Address\": \"32 Vassar St, Cambridge, MA 02139, USA\",\n",
      "        \"Transportation\": \"Walk\",\n",
      "        \"lat\": 42.35984,\n",
      "        \"log\": -71.09125\n",
      "      },\n",
      "      {\n",
      "        \"Time\": 1080,\n",
      "        \"Activity\": \"Workout and swim at Zesiger Sports and Fitness Center\",\n",
      "        \"Address\": \"120 Vassar St, Cambridge, MA 02139, USA\",\n",
      "        \"Transportation\": \"Walk\",\n",
      "        \"lat\": 42.35856,\n",
      "        \"log\": -71.0961\n",
      "      },\n",
      "      {\n",
      "        \"Time\": 1170,\n",
      "        \"Activity\": \"Bike ride back to the apartment and prepare dinner\",\n",
      "        \"Address\": \"303 3rd St, Cambridge, MA 02142, USA\",\n",
      "        \"Transportation\": \"Bike\",\n",
      "        \"lat\": 42.36458,\n",
      "        \"log\": -71.08401\n",
      "      },\n",
      "      {\n",
      "        \"Time\": 1260,\n",
      "        \"Activity\": \"Reading book / Podcast\",\n",
      "        \"Address\": \"303 3rd St, Cambridge, MA 02142, USA\",\n",
      "        \"Transportation\": \"Stay\",\n",
      "        \"lat\": 42.36458,\n",
      "        \"log\": -71.08401\n",
      "      },\n",
      "      {\n",
      "        \"Time\": 1350,\n",
      "        \"Activity\": \"Review of next day's tasks\",\n",
      "        \"Address\": \"303 3rd St, Cambridge, MA 02142, USA\",\n",
      "        \"Transportation\": \"Stay\",\n",
      "        \"lat\": 42.36458,\n",
      "        \"log\": -71.08401\n",
      "      },\n",
      "      {\n",
      "        \"Time\": 1380,\n",
      "        \"Activity\": \"Bedtime\",\n",
      "        \"Address\": \"303 3rd St, Cambridge, MA 02142, USA\",\n",
      "        \"Transportation\": \"Stay\",\n",
      "        \"lat\": 42.36458,\n",
      "        \"log\": -71.08401\n",
      "      }\n",
      "    ]\n",
      "  }\n",
      "}\n"
     ]
    }
   ],
   "source": [
    "print(updated_json_string)"
   ]
  },
  {
   "cell_type": "code",
   "execution_count": 2,
   "id": "dcd5db93",
   "metadata": {},
   "outputs": [],
   "source": [
    "#increase UDP package size\n",
    "# sudo sysctl -w net.inet.udp.maxdgram=65535\n",
    "def send_json_via_udp(json_data, host, port):\n",
    "    # Convert JSON data to string\n",
    "    #json_str = json.dumps(json_data, indent=None)\n",
    "\n",
    "    # Create a UDP socket\n",
    "    udp_socket = socket.socket(socket.AF_INET, socket.SOCK_DGRAM)\n",
    "\n",
    "    try:\n",
    "        # Send the JSON string over UDP\n",
    "        udp_socket.sendto(json_data.encode('utf-8'), (host, port))\n",
    "        print(\"JSON data sent successfully via UDP.\")\n",
    "    finally:\n",
    "        # Close the UDP socket\n",
    "        udp_socket.close()"
   ]
  },
  {
   "cell_type": "code",
   "execution_count": 3,
   "id": "6673fb51",
   "metadata": {},
   "outputs": [
    {
     "ename": "NameError",
     "evalue": "name 'updated_json_string' is not defined",
     "output_type": "error",
     "traceback": [
      "\u001b[0;31m---------------------------------------------------------------------------\u001b[0m",
      "\u001b[0;31mNameError\u001b[0m                                 Traceback (most recent call last)",
      "Cell \u001b[0;32mIn[3], line 6\u001b[0m\n\u001b[1;32m      3\u001b[0m port \u001b[38;5;241m=\u001b[39m \u001b[38;5;241m15800\u001b[39m        \u001b[38;5;66;03m# Replace with the actual server port number\u001b[39;00m\n\u001b[1;32m      5\u001b[0m \u001b[38;5;66;03m# Send JSON data via UDP\u001b[39;00m\n\u001b[0;32m----> 6\u001b[0m send_json_via_udp(\u001b[43mupdated_json_string\u001b[49m, host, port)\n",
      "\u001b[0;31mNameError\u001b[0m: name 'updated_json_string' is not defined"
     ]
    }
   ],
   "source": [
    "# UDP server details\n",
    "host = '127.0.0.1'  # Replace with the actual server IP address\n",
    "port = 15800        # Replace with the actual server port number\n",
    "\n",
    "# Send JSON data via UDP\n",
    "send_json_via_udp(updated_json_string, host, port)"
   ]
  },
  {
   "cell_type": "code",
   "execution_count": 33,
   "id": "33220cf9",
   "metadata": {},
   "outputs": [
    {
     "name": "stdout",
     "output_type": "stream",
     "text": [
      "\"{\\n  \\\"Profile\\\": {\\n    \\\"Name\\\": \\\"John Smith\\\",\\n    \\\"Age\\\": 26,\\n    \\\"Nationality\\\": \\\"American\\\",\\n    \\\"Academic Background\\\": \\\"University of California, Berkeley\\\",\\n    \\\"Research Interests\\\": [\\n      \\\"Sustainable urban systems\\\",\\n      \\\"Equitable city design\\\",\\n      \\\"Resilience in urban infrastructure\\\",\\n      \\\"Data-driven urban planning\\\",\\n      \\\"Smart cities\\\"\\n    ],\\n    \\\"Residence\\\": \\\"303 3rd St, Cambridge, MA 02142, USA\\\",\\n    \\\"Personal Interests\\\": [\\n      \\\"Cycling\\\",\\n      \\\"Sustainability\\\",\\n      \\\"Reading\\\",\\n      \\\"Cooking\\\",\\n      \\\"Podcasts\\\",\\n      \\\"Photography\\\"\\n    ],\\n    \\\"Skills\\\": [\\n      \\\"Python\\\",\\n      \\\"R\\\",\\n      \\\"GIS\\\",\\n      \\\"Basic machine learning\\\",\\n      \\\"Communication\\\",\\n      \\\"Data analysis\\\",\\n      \\\"Project management\\\"\\n    ]\\n  },\\n  \\\"Day Schedule\\\": {\\n    \\\"MatrixName\\\": \\\"John Smith's Daily Activities\\\",\\n    \\\"Activities\\\": [\\n      {\\n        \\\"Time\\\": 420,\\n        \\\"Activity\\\": \\\"Wake up, Stretch, Prepare breakfast\\\",\\n        \\\"Address\\\": \\\"303 3rd St, Cambridge, MA 02142, USA\\\",\\n        \\\"Transportation\\\": \\\"Stay\\\",\\n        \\\"lat\\\": 42.36458,\\n        \\\"log\\\": -71.08401\\n      },\\n      {\\n        \\\"Time\\\": 480,\\n        \\\"Activity\\\": \\\"Reading research articles and papers\\\",\\n        \\\"Address\\\": \\\"303 3rd St, Cambridge, MA 02142, USA\\\",\\n        \\\"Transportation\\\": \\\"Stay\\\",\\n        \\\"lat\\\": 42.36458,\\n        \\\"log\\\": -71.08401\\n      },\\n      {\\n        \\\"Time\\\": 540,\\n        \\\"Activity\\\": \\\"Bike ride to MIT campus\\\",\\n        \\\"Address\\\": \\\"MIT Campus, Cambridge, MA 02142, USA\\\",\\n        \\\"Transportation\\\": \\\"Bike\\\",\\n        \\\"lat\\\": 42.36225,\\n        \\\"log\\\": -71.08473\\n      },\\n      {\\n        \\\"Time\\\": 570,\\n        \\\"Activity\\\": \\\"Meeting with research advisor at MIT Media Lab\\\",\\n        \\\"Address\\\": \\\"75 Amherst St, Cambridge, MA 02139, USA\\\",\\n        \\\"Transportation\\\": \\\"Walk\\\",\\n        \\\"lat\\\": 42.36038,\\n        \\\"log\\\": -71.08731\\n      },\\n      {\\n        \\\"Time\\\": 660,\\n        \\\"Activity\\\": \\\"Attend seminar on sustainable urban development at Bartos Theater\\\",\\n        \\\"Address\\\": \\\"20 Ames St, Cambridge, MA 02142, USA\\\",\\n        \\\"Transportation\\\": \\\"Walk\\\",\\n        \\\"lat\\\": 42.36065,\\n        \\\"log\\\": -71.08744\\n      },\\n      {\\n        \\\"Time\\\": 750,\\n        \\\"Activity\\\": \\\"Lunch at Clover Food Lab food truck\\\",\\n        \\\"Address\\\": \\\"Kendall Square, Cambridge, MA 02142, USA\\\",\\n        \\\"Transportation\\\": \\\"Walk\\\",\\n        \\\"lat\\\": 42.36798,\\n        \\\"log\\\": -71.08995\\n      },\\n      {\\n        \\\"Time\\\": 810,\\n        \\\"Activity\\\": \\\"Research and project work at MIT Media Lab\\\",\\n        \\\"Address\\\": \\\"75 Amherst St, Cambridge, MA 02139, USA\\\",\\n        \\\"Transportation\\\": \\\"Walk\\\",\\n        \\\"lat\\\": 42.36038,\\n        \\\"log\\\": -71.08731\\n      },\\n      {\\n        \\\"Time\\\": 900,\\n        \\\"Activity\\\": \\\"Attend data visualization workshop at MIT Libraries\\\",\\n        \\\"Address\\\": \\\"160 Memorial Dr, Cambridge, MA 02142, USA\\\",\\n        \\\"Transportation\\\": \\\"Walk\\\",\\n        \\\"lat\\\": 42.35941,\\n        \\\"log\\\": -71.08899\\n      },\\n      {\\n        \\\"Time\\\": 990,\\n        \\\"Activity\\\": \\\"Group meeting at R&D Commons\\\",\\n        \\\"Address\\\": \\\"32 Vassar St, Cambridge, MA 02139, USA\\\",\\n        \\\"Transportation\\\": \\\"Walk\\\",\\n        \\\"lat\\\": 42.35984,\\n        \\\"log\\\": -71.09125\\n      },\\n      {\\n        \\\"Time\\\": 1080,\\n        \\\"Activity\\\": \\\"Workout and swim at Zesiger Sports and Fitness Center\\\",\\n        \\\"Address\\\": \\\"120 Vassar St, Cambridge, MA 02139, USA\\\",\\n        \\\"Transportation\\\": \\\"Walk\\\",\\n        \\\"lat\\\": 42.35856,\\n        \\\"log\\\": -71.0961\\n      },\\n      {\\n        \\\"Time\\\": 1170,\\n        \\\"Activity\\\": \\\"Bike ride back to the apartment and prepare dinner\\\",\\n        \\\"Address\\\": \\\"303 3rd St, Cambridge, MA 02142, USA\\\",\\n        \\\"Transportation\\\": \\\"Bike\\\",\\n        \\\"lat\\\": 42.36458,\\n        \\\"log\\\": -71.08401\\n      },\\n      {\\n        \\\"Time\\\": 1260,\\n        \\\"Activity\\\": \\\"Reading book / Podcast\\\",\\n        \\\"Address\\\": \\\"303 3rd St, Cambridge, MA 02142, USA\\\",\\n        \\\"Transportation\\\": \\\"Stay\\\",\\n        \\\"lat\\\": 42.36458,\\n        \\\"log\\\": -71.08401\\n      },\\n      {\\n        \\\"Time\\\": 1350,\\n        \\\"Activity\\\": \\\"Review of next day's tasks\\\",\\n        \\\"Address\\\": \\\"303 3rd St, Cambridge, MA 02142, USA\\\",\\n        \\\"Transportation\\\": \\\"Stay\\\",\\n        \\\"lat\\\": 42.36458,\\n        \\\"log\\\": -71.08401\\n      },\\n      {\\n        \\\"Time\\\": 1380,\\n        \\\"Activity\\\": \\\"Bedtime\\\",\\n        \\\"Address\\\": \\\"303 3rd St, Cambridge, MA 02142, USA\\\",\\n        \\\"Transportation\\\": \\\"Stay\\\",\\n        \\\"lat\\\": 42.36458,\\n        \\\"log\\\": -71.08401\\n      }\\n    ]\\n  }\\n}\"\n"
     ]
    }
   ],
   "source": [
    "print(json.dumps(updated_json_string))"
   ]
  },
  {
   "cell_type": "code",
   "execution_count": null,
   "id": "a459dd27",
   "metadata": {},
   "outputs": [],
   "source": []
  }
 ],
 "metadata": {
  "kernelspec": {
   "display_name": "Python 3 (ipykernel)",
   "language": "python",
   "name": "python3"
  },
  "language_info": {
   "codemirror_mode": {
    "name": "ipython",
    "version": 3
   },
   "file_extension": ".py",
   "mimetype": "text/x-python",
   "name": "python",
   "nbconvert_exporter": "python",
   "pygments_lexer": "ipython3",
   "version": "3.11.4"
  }
 },
 "nbformat": 4,
 "nbformat_minor": 5
}
