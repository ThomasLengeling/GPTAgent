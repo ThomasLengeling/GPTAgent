{
 "cells": [
  {
   "cell_type": "code",
   "execution_count": null,
   "id": "4af83494",
   "metadata": {},
   "outputs": [],
   "source": [
    "import geopandas"
   ]
  },
  {
   "cell_type": "code",
   "execution_count": null,
   "id": "d6153cfa",
   "metadata": {},
   "outputs": [],
   "source": [
    "myshpfile = geopandas.read_file('myshpfile.shp')\n",
    "myshpfile.to_file('myJson.geojson', driver='GeoJSON')"
   ]
  }
 ],
 "metadata": {
  "kernelspec": {
   "display_name": "Python 3 (ipykernel)",
   "language": "python",
   "name": "python3"
  },
  "language_info": {
   "codemirror_mode": {
    "name": "ipython",
    "version": 3
   },
   "file_extension": ".py",
   "mimetype": "text/x-python",
   "name": "python",
   "nbconvert_exporter": "python",
   "pygments_lexer": "ipython3",
   "version": "3.11.4"
  }
 },
 "nbformat": 4,
 "nbformat_minor": 5
}
