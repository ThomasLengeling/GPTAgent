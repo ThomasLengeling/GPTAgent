{
 "cells": [
  {
   "cell_type": "code",
   "execution_count": 1,
   "id": "4499c323",
   "metadata": {},
   "outputs": [],
   "source": [
    "import geopandas   "
   ]
  },
  {
   "cell_type": "code",
   "execution_count": 3,
   "id": "75d55568",
   "metadata": {},
   "outputs": [],
   "source": [
    "myshpfile = geopandas.read_file('Camb3D_Bldg_Active_MP_20220810/'+'Camb3D_Bldg_Active_MP.shp')\n",
    "myshpfile.to_file('cambridge_buildings.geojson', driver='GeoJSON')"
   ]
  },
  {
   "cell_type": "code",
   "execution_count": null,
   "id": "e319801b",
   "metadata": {},
   "outputs": [],
   "source": []
  }
 ],
 "metadata": {
  "kernelspec": {
   "display_name": "Python 3 (ipykernel)",
   "language": "python",
   "name": "python3"
  },
  "language_info": {
   "codemirror_mode": {
    "name": "ipython",
    "version": 3
   },
   "file_extension": ".py",
   "mimetype": "text/x-python",
   "name": "python",
   "nbconvert_exporter": "python",
   "pygments_lexer": "ipython3",
   "version": "3.11.4"
  }
 },
 "nbformat": 4,
 "nbformat_minor": 5
}
